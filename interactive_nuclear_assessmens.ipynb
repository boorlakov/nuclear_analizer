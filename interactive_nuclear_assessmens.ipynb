{
  "nbformat": 4,
  "nbformat_minor": 0,
  "metadata": {
    "colab": {
      "name": "interactive_nuclear_assessmens.ipynb",
      "provenance": [],
      "collapsed_sections": [],
      "authorship_tag": "ABX9TyNrysTnP0yOfXkm+5zYitzh",
      "include_colab_link": true
    },
    "kernelspec": {
      "name": "python3",
      "display_name": "Python 3"
    },
    "language_info": {
      "name": "python"
    },
    "widgets": {
      "application/vnd.jupyter.widget-state+json": {
        "54fb4f720dc14a60bacfcc7ed4d11905": {
          "model_module": "@jupyter-widgets/controls",
          "model_name": "VBoxModel",
          "model_module_version": "1.5.0",
          "state": {
            "_view_name": "VBoxView",
            "_dom_classes": [
              "widget-interact"
            ],
            "_model_name": "VBoxModel",
            "_view_module": "@jupyter-widgets/controls",
            "_model_module_version": "1.5.0",
            "_view_count": null,
            "_view_module_version": "1.5.0",
            "box_style": "",
            "layout": "IPY_MODEL_615b11c954b047eda0674ac29fa273af",
            "_model_module": "@jupyter-widgets/controls",
            "children": [
              "IPY_MODEL_e3d74e070c4c4e6f970f2ae58ff0fa97",
              "IPY_MODEL_9cce808bb839402ba7c2545cbe516020"
            ]
          }
        },
        "615b11c954b047eda0674ac29fa273af": {
          "model_module": "@jupyter-widgets/base",
          "model_name": "LayoutModel",
          "model_module_version": "1.2.0",
          "state": {
            "_view_name": "LayoutView",
            "grid_template_rows": null,
            "right": null,
            "justify_content": null,
            "_view_module": "@jupyter-widgets/base",
            "overflow": null,
            "_model_module_version": "1.2.0",
            "_view_count": null,
            "flex_flow": null,
            "width": null,
            "min_width": null,
            "border": null,
            "align_items": null,
            "bottom": null,
            "_model_module": "@jupyter-widgets/base",
            "top": null,
            "grid_column": null,
            "overflow_y": null,
            "overflow_x": null,
            "grid_auto_flow": null,
            "grid_area": null,
            "grid_template_columns": null,
            "flex": null,
            "_model_name": "LayoutModel",
            "justify_items": null,
            "grid_row": null,
            "max_height": null,
            "align_content": null,
            "visibility": null,
            "align_self": null,
            "height": null,
            "min_height": null,
            "padding": null,
            "grid_auto_rows": null,
            "grid_gap": null,
            "max_width": null,
            "order": null,
            "_view_module_version": "1.2.0",
            "grid_template_areas": null,
            "object_position": null,
            "object_fit": null,
            "grid_auto_columns": null,
            "margin": null,
            "display": null,
            "left": null
          }
        },
        "e3d74e070c4c4e6f970f2ae58ff0fa97": {
          "model_module": "@jupyter-widgets/controls",
          "model_name": "FloatSliderModel",
          "model_module_version": "1.5.0",
          "state": {
            "_view_name": "FloatSliderView",
            "style": "IPY_MODEL_b6e67e6dac04497f9724e95fd2882033",
            "_dom_classes": [],
            "description": "λ_n",
            "step": 0.1,
            "_model_name": "FloatSliderModel",
            "orientation": "horizontal",
            "max": 6,
            "_view_module": "@jupyter-widgets/controls",
            "_model_module_version": "1.5.0",
            "value": 0.2,
            "_view_count": null,
            "disabled": false,
            "_view_module_version": "1.5.0",
            "min": 0.2,
            "continuous_update": true,
            "readout_format": ".2f",
            "description_tooltip": null,
            "readout": true,
            "_model_module": "@jupyter-widgets/controls",
            "layout": "IPY_MODEL_97d0d94dd6ef430b8388ef2e07b0eaa7"
          }
        },
        "9cce808bb839402ba7c2545cbe516020": {
          "model_module": "@jupyter-widgets/output",
          "model_name": "OutputModel",
          "model_module_version": "1.0.0",
          "state": {
            "_view_name": "OutputView",
            "msg_id": "",
            "_dom_classes": [],
            "_model_name": "OutputModel",
            "outputs": [
              {
                "output_type": "display_data",
                "data": {
                  "image/png": "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\n",
                  "text/plain": "<Figure size 432x288 with 1 Axes>"
                },
                "metadata": {
                  "needs_background": "light"
                }
              }
            ],
            "_view_module": "@jupyter-widgets/output",
            "_model_module_version": "1.0.0",
            "_view_count": null,
            "_view_module_version": "1.0.0",
            "layout": "IPY_MODEL_19a610e177ee466d830b738aad2c1b30",
            "_model_module": "@jupyter-widgets/output"
          }
        },
        "b6e67e6dac04497f9724e95fd2882033": {
          "model_module": "@jupyter-widgets/controls",
          "model_name": "SliderStyleModel",
          "model_module_version": "1.5.0",
          "state": {
            "_view_name": "StyleView",
            "handle_color": null,
            "_model_name": "SliderStyleModel",
            "description_width": "",
            "_view_module": "@jupyter-widgets/base",
            "_model_module_version": "1.5.0",
            "_view_count": null,
            "_view_module_version": "1.2.0",
            "_model_module": "@jupyter-widgets/controls"
          }
        },
        "97d0d94dd6ef430b8388ef2e07b0eaa7": {
          "model_module": "@jupyter-widgets/base",
          "model_name": "LayoutModel",
          "model_module_version": "1.2.0",
          "state": {
            "_view_name": "LayoutView",
            "grid_template_rows": null,
            "right": null,
            "justify_content": null,
            "_view_module": "@jupyter-widgets/base",
            "overflow": null,
            "_model_module_version": "1.2.0",
            "_view_count": null,
            "flex_flow": null,
            "width": null,
            "min_width": null,
            "border": null,
            "align_items": null,
            "bottom": null,
            "_model_module": "@jupyter-widgets/base",
            "top": null,
            "grid_column": null,
            "overflow_y": null,
            "overflow_x": null,
            "grid_auto_flow": null,
            "grid_area": null,
            "grid_template_columns": null,
            "flex": null,
            "_model_name": "LayoutModel",
            "justify_items": null,
            "grid_row": null,
            "max_height": null,
            "align_content": null,
            "visibility": null,
            "align_self": null,
            "height": null,
            "min_height": null,
            "padding": null,
            "grid_auto_rows": null,
            "grid_gap": null,
            "max_width": null,
            "order": null,
            "_view_module_version": "1.2.0",
            "grid_template_areas": null,
            "object_position": null,
            "object_fit": null,
            "grid_auto_columns": null,
            "margin": null,
            "display": null,
            "left": null
          }
        },
        "19a610e177ee466d830b738aad2c1b30": {
          "model_module": "@jupyter-widgets/base",
          "model_name": "LayoutModel",
          "model_module_version": "1.2.0",
          "state": {
            "_view_name": "LayoutView",
            "grid_template_rows": null,
            "right": null,
            "justify_content": null,
            "_view_module": "@jupyter-widgets/base",
            "overflow": null,
            "_model_module_version": "1.2.0",
            "_view_count": null,
            "flex_flow": null,
            "width": null,
            "min_width": null,
            "border": null,
            "align_items": null,
            "bottom": null,
            "_model_module": "@jupyter-widgets/base",
            "top": null,
            "grid_column": null,
            "overflow_y": null,
            "overflow_x": null,
            "grid_auto_flow": null,
            "grid_area": null,
            "grid_template_columns": null,
            "flex": null,
            "_model_name": "LayoutModel",
            "justify_items": null,
            "grid_row": null,
            "max_height": null,
            "align_content": null,
            "visibility": null,
            "align_self": null,
            "height": null,
            "min_height": null,
            "padding": null,
            "grid_auto_rows": null,
            "grid_gap": null,
            "max_width": null,
            "order": null,
            "_view_module_version": "1.2.0",
            "grid_template_areas": null,
            "object_position": null,
            "object_fit": null,
            "grid_auto_columns": null,
            "margin": null,
            "display": null,
            "left": null
          }
        },
        "f829dd5948df4c858a7d851e19f1015d": {
          "model_module": "@jupyter-widgets/controls",
          "model_name": "VBoxModel",
          "model_module_version": "1.5.0",
          "state": {
            "_view_name": "VBoxView",
            "_dom_classes": [
              "widget-interact"
            ],
            "_model_name": "VBoxModel",
            "_view_module": "@jupyter-widgets/controls",
            "_model_module_version": "1.5.0",
            "_view_count": null,
            "_view_module_version": "1.5.0",
            "box_style": "",
            "layout": "IPY_MODEL_8bd216f9ef4c476d8c20301fe5188442",
            "_model_module": "@jupyter-widgets/controls",
            "children": [
              "IPY_MODEL_6ab830090f3f4da98f0aa67f7f14a276",
              "IPY_MODEL_18e17d487f324479b8fdb7e3d95f9aaa"
            ]
          }
        },
        "8bd216f9ef4c476d8c20301fe5188442": {
          "model_module": "@jupyter-widgets/base",
          "model_name": "LayoutModel",
          "model_module_version": "1.2.0",
          "state": {
            "_view_name": "LayoutView",
            "grid_template_rows": null,
            "right": null,
            "justify_content": null,
            "_view_module": "@jupyter-widgets/base",
            "overflow": null,
            "_model_module_version": "1.2.0",
            "_view_count": null,
            "flex_flow": null,
            "width": null,
            "min_width": null,
            "border": null,
            "align_items": null,
            "bottom": null,
            "_model_module": "@jupyter-widgets/base",
            "top": null,
            "grid_column": null,
            "overflow_y": null,
            "overflow_x": null,
            "grid_auto_flow": null,
            "grid_area": null,
            "grid_template_columns": null,
            "flex": null,
            "_model_name": "LayoutModel",
            "justify_items": null,
            "grid_row": null,
            "max_height": null,
            "align_content": null,
            "visibility": null,
            "align_self": null,
            "height": null,
            "min_height": null,
            "padding": null,
            "grid_auto_rows": null,
            "grid_gap": null,
            "max_width": null,
            "order": null,
            "_view_module_version": "1.2.0",
            "grid_template_areas": null,
            "object_position": null,
            "object_fit": null,
            "grid_auto_columns": null,
            "margin": null,
            "display": null,
            "left": null
          }
        },
        "6ab830090f3f4da98f0aa67f7f14a276": {
          "model_module": "@jupyter-widgets/controls",
          "model_name": "FloatSliderModel",
          "model_module_version": "1.5.0",
          "state": {
            "_view_name": "FloatSliderView",
            "style": "IPY_MODEL_504db7082c9f42018f48b22c4fd650e6",
            "_dom_classes": [],
            "description": "λ_n",
            "step": 0.1,
            "_model_name": "FloatSliderModel",
            "orientation": "horizontal",
            "max": 6,
            "_view_module": "@jupyter-widgets/controls",
            "_model_module_version": "1.5.0",
            "value": 0.2,
            "_view_count": null,
            "disabled": false,
            "_view_module_version": "1.5.0",
            "min": 0.2,
            "continuous_update": true,
            "readout_format": ".2f",
            "description_tooltip": null,
            "readout": true,
            "_model_module": "@jupyter-widgets/controls",
            "layout": "IPY_MODEL_33350cd1f47643f5b759016d5cf22679"
          }
        },
        "18e17d487f324479b8fdb7e3d95f9aaa": {
          "model_module": "@jupyter-widgets/output",
          "model_name": "OutputModel",
          "model_module_version": "1.0.0",
          "state": {
            "_view_name": "OutputView",
            "msg_id": "",
            "_dom_classes": [],
            "_model_name": "OutputModel",
            "outputs": [
              {
                "output_type": "display_data",
                "data": {
                  "image/png": "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\n",
                  "text/plain": "<Figure size 432x288 with 1 Axes>"
                },
                "metadata": {
                  "needs_background": "light"
                }
              }
            ],
            "_view_module": "@jupyter-widgets/output",
            "_model_module_version": "1.0.0",
            "_view_count": null,
            "_view_module_version": "1.0.0",
            "layout": "IPY_MODEL_f4e6e92f766f49b09ae66f6b52b6292c",
            "_model_module": "@jupyter-widgets/output"
          }
        },
        "504db7082c9f42018f48b22c4fd650e6": {
          "model_module": "@jupyter-widgets/controls",
          "model_name": "SliderStyleModel",
          "model_module_version": "1.5.0",
          "state": {
            "_view_name": "StyleView",
            "handle_color": null,
            "_model_name": "SliderStyleModel",
            "description_width": "",
            "_view_module": "@jupyter-widgets/base",
            "_model_module_version": "1.5.0",
            "_view_count": null,
            "_view_module_version": "1.2.0",
            "_model_module": "@jupyter-widgets/controls"
          }
        },
        "33350cd1f47643f5b759016d5cf22679": {
          "model_module": "@jupyter-widgets/base",
          "model_name": "LayoutModel",
          "model_module_version": "1.2.0",
          "state": {
            "_view_name": "LayoutView",
            "grid_template_rows": null,
            "right": null,
            "justify_content": null,
            "_view_module": "@jupyter-widgets/base",
            "overflow": null,
            "_model_module_version": "1.2.0",
            "_view_count": null,
            "flex_flow": null,
            "width": null,
            "min_width": null,
            "border": null,
            "align_items": null,
            "bottom": null,
            "_model_module": "@jupyter-widgets/base",
            "top": null,
            "grid_column": null,
            "overflow_y": null,
            "overflow_x": null,
            "grid_auto_flow": null,
            "grid_area": null,
            "grid_template_columns": null,
            "flex": null,
            "_model_name": "LayoutModel",
            "justify_items": null,
            "grid_row": null,
            "max_height": null,
            "align_content": null,
            "visibility": null,
            "align_self": null,
            "height": null,
            "min_height": null,
            "padding": null,
            "grid_auto_rows": null,
            "grid_gap": null,
            "max_width": null,
            "order": null,
            "_view_module_version": "1.2.0",
            "grid_template_areas": null,
            "object_position": null,
            "object_fit": null,
            "grid_auto_columns": null,
            "margin": null,
            "display": null,
            "left": null
          }
        },
        "f4e6e92f766f49b09ae66f6b52b6292c": {
          "model_module": "@jupyter-widgets/base",
          "model_name": "LayoutModel",
          "model_module_version": "1.2.0",
          "state": {
            "_view_name": "LayoutView",
            "grid_template_rows": null,
            "right": null,
            "justify_content": null,
            "_view_module": "@jupyter-widgets/base",
            "overflow": null,
            "_model_module_version": "1.2.0",
            "_view_count": null,
            "flex_flow": null,
            "width": null,
            "min_width": null,
            "border": null,
            "align_items": null,
            "bottom": null,
            "_model_module": "@jupyter-widgets/base",
            "top": null,
            "grid_column": null,
            "overflow_y": null,
            "overflow_x": null,
            "grid_auto_flow": null,
            "grid_area": null,
            "grid_template_columns": null,
            "flex": null,
            "_model_name": "LayoutModel",
            "justify_items": null,
            "grid_row": null,
            "max_height": null,
            "align_content": null,
            "visibility": null,
            "align_self": null,
            "height": null,
            "min_height": null,
            "padding": null,
            "grid_auto_rows": null,
            "grid_gap": null,
            "max_width": null,
            "order": null,
            "_view_module_version": "1.2.0",
            "grid_template_areas": null,
            "object_position": null,
            "object_fit": null,
            "grid_auto_columns": null,
            "margin": null,
            "display": null,
            "left": null
          }
        },
        "84e2cfdfa79d44f6bdf7c1ee8547040e": {
          "model_module": "@jupyter-widgets/controls",
          "model_name": "VBoxModel",
          "model_module_version": "1.5.0",
          "state": {
            "_view_name": "VBoxView",
            "_dom_classes": [
              "widget-interact"
            ],
            "_model_name": "VBoxModel",
            "_view_module": "@jupyter-widgets/controls",
            "_model_module_version": "1.5.0",
            "_view_count": null,
            "_view_module_version": "1.5.0",
            "box_style": "",
            "layout": "IPY_MODEL_e66e5ce92ee74b3bb59b42d52a4119f8",
            "_model_module": "@jupyter-widgets/controls",
            "children": [
              "IPY_MODEL_3bbf097846384593817f322d518ed9a5",
              "IPY_MODEL_ed028154e1fe487abc910cfabc69ead2"
            ]
          }
        },
        "e66e5ce92ee74b3bb59b42d52a4119f8": {
          "model_module": "@jupyter-widgets/base",
          "model_name": "LayoutModel",
          "model_module_version": "1.2.0",
          "state": {
            "_view_name": "LayoutView",
            "grid_template_rows": null,
            "right": null,
            "justify_content": null,
            "_view_module": "@jupyter-widgets/base",
            "overflow": null,
            "_model_module_version": "1.2.0",
            "_view_count": null,
            "flex_flow": null,
            "width": null,
            "min_width": null,
            "border": null,
            "align_items": null,
            "bottom": null,
            "_model_module": "@jupyter-widgets/base",
            "top": null,
            "grid_column": null,
            "overflow_y": null,
            "overflow_x": null,
            "grid_auto_flow": null,
            "grid_area": null,
            "grid_template_columns": null,
            "flex": null,
            "_model_name": "LayoutModel",
            "justify_items": null,
            "grid_row": null,
            "max_height": null,
            "align_content": null,
            "visibility": null,
            "align_self": null,
            "height": null,
            "min_height": null,
            "padding": null,
            "grid_auto_rows": null,
            "grid_gap": null,
            "max_width": null,
            "order": null,
            "_view_module_version": "1.2.0",
            "grid_template_areas": null,
            "object_position": null,
            "object_fit": null,
            "grid_auto_columns": null,
            "margin": null,
            "display": null,
            "left": null
          }
        },
        "3bbf097846384593817f322d518ed9a5": {
          "model_module": "@jupyter-widgets/controls",
          "model_name": "FloatSliderModel",
          "model_module_version": "1.5.0",
          "state": {
            "_view_name": "FloatSliderView",
            "style": "IPY_MODEL_9857cb0f55f34878840e6a23d2594509",
            "_dom_classes": [],
            "description": "λ_n",
            "step": 0.1,
            "_model_name": "FloatSliderModel",
            "orientation": "horizontal",
            "max": 6,
            "_view_module": "@jupyter-widgets/controls",
            "_model_module_version": "1.5.0",
            "value": 0.2,
            "_view_count": null,
            "disabled": false,
            "_view_module_version": "1.5.0",
            "min": 0.2,
            "continuous_update": true,
            "readout_format": ".2f",
            "description_tooltip": null,
            "readout": true,
            "_model_module": "@jupyter-widgets/controls",
            "layout": "IPY_MODEL_1acb26f5ce1348cfa4b153902e97c008"
          }
        },
        "ed028154e1fe487abc910cfabc69ead2": {
          "model_module": "@jupyter-widgets/output",
          "model_name": "OutputModel",
          "model_module_version": "1.0.0",
          "state": {
            "_view_name": "OutputView",
            "msg_id": "",
            "_dom_classes": [],
            "_model_name": "OutputModel",
            "outputs": [
              {
                "output_type": "display_data",
                "data": {
                  "image/png": "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\n",
                  "text/plain": "<Figure size 432x288 with 1 Axes>"
                },
                "metadata": {
                  "needs_background": "light"
                }
              }
            ],
            "_view_module": "@jupyter-widgets/output",
            "_model_module_version": "1.0.0",
            "_view_count": null,
            "_view_module_version": "1.0.0",
            "layout": "IPY_MODEL_a858b45ec0454274b19baee0f4537878",
            "_model_module": "@jupyter-widgets/output"
          }
        },
        "9857cb0f55f34878840e6a23d2594509": {
          "model_module": "@jupyter-widgets/controls",
          "model_name": "SliderStyleModel",
          "model_module_version": "1.5.0",
          "state": {
            "_view_name": "StyleView",
            "handle_color": null,
            "_model_name": "SliderStyleModel",
            "description_width": "",
            "_view_module": "@jupyter-widgets/base",
            "_model_module_version": "1.5.0",
            "_view_count": null,
            "_view_module_version": "1.2.0",
            "_model_module": "@jupyter-widgets/controls"
          }
        },
        "1acb26f5ce1348cfa4b153902e97c008": {
          "model_module": "@jupyter-widgets/base",
          "model_name": "LayoutModel",
          "model_module_version": "1.2.0",
          "state": {
            "_view_name": "LayoutView",
            "grid_template_rows": null,
            "right": null,
            "justify_content": null,
            "_view_module": "@jupyter-widgets/base",
            "overflow": null,
            "_model_module_version": "1.2.0",
            "_view_count": null,
            "flex_flow": null,
            "width": null,
            "min_width": null,
            "border": null,
            "align_items": null,
            "bottom": null,
            "_model_module": "@jupyter-widgets/base",
            "top": null,
            "grid_column": null,
            "overflow_y": null,
            "overflow_x": null,
            "grid_auto_flow": null,
            "grid_area": null,
            "grid_template_columns": null,
            "flex": null,
            "_model_name": "LayoutModel",
            "justify_items": null,
            "grid_row": null,
            "max_height": null,
            "align_content": null,
            "visibility": null,
            "align_self": null,
            "height": null,
            "min_height": null,
            "padding": null,
            "grid_auto_rows": null,
            "grid_gap": null,
            "max_width": null,
            "order": null,
            "_view_module_version": "1.2.0",
            "grid_template_areas": null,
            "object_position": null,
            "object_fit": null,
            "grid_auto_columns": null,
            "margin": null,
            "display": null,
            "left": null
          }
        },
        "a858b45ec0454274b19baee0f4537878": {
          "model_module": "@jupyter-widgets/base",
          "model_name": "LayoutModel",
          "model_module_version": "1.2.0",
          "state": {
            "_view_name": "LayoutView",
            "grid_template_rows": null,
            "right": null,
            "justify_content": null,
            "_view_module": "@jupyter-widgets/base",
            "overflow": null,
            "_model_module_version": "1.2.0",
            "_view_count": null,
            "flex_flow": null,
            "width": null,
            "min_width": null,
            "border": null,
            "align_items": null,
            "bottom": null,
            "_model_module": "@jupyter-widgets/base",
            "top": null,
            "grid_column": null,
            "overflow_y": null,
            "overflow_x": null,
            "grid_auto_flow": null,
            "grid_area": null,
            "grid_template_columns": null,
            "flex": null,
            "_model_name": "LayoutModel",
            "justify_items": null,
            "grid_row": null,
            "max_height": null,
            "align_content": null,
            "visibility": null,
            "align_self": null,
            "height": null,
            "min_height": null,
            "padding": null,
            "grid_auto_rows": null,
            "grid_gap": null,
            "max_width": null,
            "order": null,
            "_view_module_version": "1.2.0",
            "grid_template_areas": null,
            "object_position": null,
            "object_fit": null,
            "grid_auto_columns": null,
            "margin": null,
            "display": null,
            "left": null
          }
        }
      }
    }
  },
  "cells": [
    {
      "cell_type": "markdown",
      "metadata": {
        "id": "view-in-github",
        "colab_type": "text"
      },
      "source": [
        "<a href=\"https://colab.research.google.com/github/boorlakov/nuclear_anasyser/blob/main/interactive_nuclear_assessmens.ipynb\" target=\"_parent\"><img src=\"https://colab.research.google.com/assets/colab-badge.svg\" alt=\"Open In Colab\"/></a>"
      ]
    },
    {
      "cell_type": "markdown",
      "metadata": {
        "id": "PMwscx28uGPv"
      },
      "source": [
        "# Задание 4.6* по матстату\n",
        "\n",
        "Построить на компьютере график ядерной оценки\n",
        "функции плотности по выборке\n",
        "**`(3; 0; 4; 3; 6; 0; 3; 1; 2; 1)`**, используя различные ядра и\n",
        "параметры размытости.\n",
        "\n",
        "## Ядерная оценка функции плотности имеет вид:\n",
        "\n",
        "<a href=\"https://www.codecogs.com/eqnedit.php?latex=\\hat{f}_n(x)&space;=&space;\\frac{1}{n&space;\\lambda&space;_n}&space;\\sum_{i=1}^{n}&space;g(\\frac{x-X_i}{&space;\\lambda&space;_n})\" target=\"_blank\"><img src=\"https://latex.codecogs.com/gif.latex?\\hat{f}_n(x)&space;=&space;\\frac{1}{n&space;\\lambda&space;_n}&space;\\sum_{i=1}^{n}&space;g(\\frac{x-X_i}{&space;\\lambda&space;_n})\" title=\"\\hat{f}_n(x) = \\frac{1}{n \\lambda _n} \\sum_{i=1}^{n} g(\\frac{x-X_i}{ \\lambda _n})\" /></a>\n",
        "\n",
        "## Список ядер:\n",
        "\n",
        "1. Ядро треугольное:\n",
        "\n",
        "    <a href=\"https://www.codecogs.com/eqnedit.php?latex=g(x)&space;=&space;(\\frac{1}{\\sqrt6}-\\frac{&space;\\left&space;|&space;x&space;\\right&space;|}{6})&space;h(\\sqrt6&space;-&space;\\left&space;|&space;x&space;\\right&space;|)\" target=\"_blank\"><img src=\"https://latex.codecogs.com/gif.latex?g(x)&space;=&space;(\\frac{1}{\\sqrt6}-\\frac{&space;\\left&space;|&space;x&space;\\right&space;|}{6})&space;h(\\sqrt6&space;-&space;\\left&space;|&space;x&space;\\right&space;|)\" title=\"g(x) = (\\frac{1}{\\sqrt6}-\\frac{ \\left | x \\right |}{6}) h(\\sqrt6 - \\left | x \\right |)\" /></a>\n",
        "\n",
        "2. Плотность стандартного нормального распределения:\n",
        "\n",
        "    <a href=\"https://www.codecogs.com/eqnedit.php?latex=g(x)&space;=&space;\\frac{1}{\\sqrt2\\sqrt\\pi&space;}&space;e^{-\\frac{x^2}{2}}\" target=\"_blank\"><img src=\"https://latex.codecogs.com/gif.latex?g(x)&space;=&space;\\frac{1}{\\sqrt2\\sqrt\\pi&space;}&space;e^{-\\frac{x^2}{2}}\" title=\"g(x) = \\frac{1}{\\sqrt2\\sqrt\\pi } e^{-\\frac{x^2}{2}}\" /></a>\n",
        "\n",
        "3. Ядро Епанечникова:\n",
        "\n",
        "    <a href=\"https://www.codecogs.com/eqnedit.php?latex=g(x)&space;=&space;(\\frac{3}{4\\sqrt5}-\\frac{3}{20\\sqrt5}x^2)&space;h(\\sqrt5&space;-&space;\\left&space;|&space;x&space;\\right&space;|)\" target=\"_blank\"><img src=\"https://latex.codecogs.com/gif.latex?g(x)&space;=&space;(\\frac{3}{4\\sqrt5}-\\frac{3}{20\\sqrt5}x^2)&space;h(\\sqrt5&space;-&space;\\left&space;|&space;x&space;\\right&space;|)\" title=\"g(x) = (\\frac{3}{4\\sqrt5}-\\frac{3}{20\\sqrt5}x^2) h(\\sqrt5 - \\left | x \\right |)\" /></a>\n"
      ]
    },
    {
      "cell_type": "code",
      "metadata": {
        "id": "ZQTeodr7nRe9",
        "colab": {
          "resources": {
            "http://localhost:8080/nbextensions/google.colab/tabbar.css": {
              "data": "Lmdvb2ctdGFie3Bvc2l0aW9uOnJlbGF0aXZlO3BhZGRpbmc6NHB4IDhweDtjb2xvcjojMDBjO3RleHQtZGVjb3JhdGlvbjp1bmRlcmxpbmU7Y3Vyc29yOmRlZmF1bHR9Lmdvb2ctdGFiLWJhci10b3AgLmdvb2ctdGFie21hcmdpbjoxcHggNHB4IDAgMDtib3JkZXItYm90dG9tOjA7ZmxvYXQ6bGVmdH0uZ29vZy10YWItYmFyLXRvcDphZnRlciwuZ29vZy10YWItYmFyLWJvdHRvbTphZnRlcntjb250ZW50OiIgIjtkaXNwbGF5OmJsb2NrO2hlaWdodDowO2NsZWFyOmJvdGg7dmlzaWJpbGl0eTpoaWRkZW59Lmdvb2ctdGFiLWJhci1ib3R0b20gLmdvb2ctdGFie21hcmdpbjowIDRweCAxcHggMDtib3JkZXItdG9wOjA7ZmxvYXQ6bGVmdH0uZ29vZy10YWItYmFyLXN0YXJ0IC5nb29nLXRhYnttYXJnaW46MCAwIDRweCAxcHg7Ym9yZGVyLXJpZ2h0OjB9Lmdvb2ctdGFiLWJhci1lbmQgLmdvb2ctdGFie21hcmdpbjowIDFweCA0cHggMDtib3JkZXItbGVmdDowfS5nb29nLXRhYi1ob3ZlcntiYWNrZ3JvdW5kOiNlZWV9Lmdvb2ctdGFiLWRpc2FibGVke2NvbG9yOiM2NjZ9Lmdvb2ctdGFiLXNlbGVjdGVke2NvbG9yOiMwMDA7YmFja2dyb3VuZDojZmZmO3RleHQtZGVjb3JhdGlvbjpub25lO2ZvbnQtd2VpZ2h0OmJvbGQ7Ym9yZGVyOjFweCBzb2xpZCAjNmI5MGRhfS5nb29nLXRhYi1iYXItdG9we3BhZGRpbmctdG9wOjVweCFpbXBvcnRhbnQ7cGFkZGluZy1sZWZ0OjVweCFpbXBvcnRhbnQ7Ym9yZGVyLWJvdHRvbToxcHggc29saWQgIzZiOTBkYSFpbXBvcnRhbnR9Lmdvb2ctdGFiLWJhci10b3AgLmdvb2ctdGFiLXNlbGVjdGVke3RvcDoxcHg7bWFyZ2luLXRvcDowO3BhZGRpbmctYm90dG9tOjVweH0uZ29vZy10YWItYmFyLWJvdHRvbSAuZ29vZy10YWItc2VsZWN0ZWR7dG9wOi0xcHg7bWFyZ2luLWJvdHRvbTowO3BhZGRpbmctdG9wOjVweH0uZ29vZy10YWItYmFyLXN0YXJ0IC5nb29nLXRhYi1zZWxlY3RlZHtsZWZ0OjFweDttYXJnaW4tbGVmdDowO3BhZGRpbmctcmlnaHQ6OXB4fS5nb29nLXRhYi1iYXItZW5kIC5nb29nLXRhYi1zZWxlY3RlZHtsZWZ0Oi0xcHg7bWFyZ2luLXJpZ2h0OjA7cGFkZGluZy1sZWZ0OjlweH0uZ29vZy10YWItYmFye21hcmdpbjowO2JvcmRlcjowO3BhZGRpbmc6MDtsaXN0LXN0eWxlOm5vbmU7Y3Vyc29yOmRlZmF1bHQ7b3V0bGluZTpub25lO2JhY2tncm91bmQ6I2ViZWZmOX0uZ29vZy10YWItYmFyLWNsZWFye2NsZWFyOmJvdGg7aGVpZ2h0OjA7b3ZlcmZsb3c6aGlkZGVufS5nb29nLXRhYi1iYXItc3RhcnR7ZmxvYXQ6bGVmdH0uZ29vZy10YWItYmFyLWVuZHtmbG9hdDpyaWdodH0qIGh0bWwgLmdvb2ctdGFiLWJhci1zdGFydHttYXJnaW4tcmlnaHQ6LTNweH0qIGh0bWwgLmdvb2ctdGFiLWJhci1lbmR7bWFyZ2luLWxlZnQ6LTNweH0=",
              "ok": true,
              "headers": [
                [
                  "content-type",
                  "text/css"
                ]
              ],
              "status": 200,
              "status_text": ""
            },
            "http://localhost:8080/nbextensions/google.colab/tabbar_main.min.js": {
              "data": "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",
              "ok": true,
              "headers": [
                [
                  "content-type",
                  "application/javascript"
                ]
              ],
              "status": 200,
              "status_text": ""
            }
          },
          "base_uri": "https://localhost:8080/",
          "height": 339,
          "referenced_widgets": [
            "54fb4f720dc14a60bacfcc7ed4d11905",
            "615b11c954b047eda0674ac29fa273af",
            "e3d74e070c4c4e6f970f2ae58ff0fa97",
            "9cce808bb839402ba7c2545cbe516020",
            "b6e67e6dac04497f9724e95fd2882033",
            "97d0d94dd6ef430b8388ef2e07b0eaa7",
            "19a610e177ee466d830b738aad2c1b30",
            "f829dd5948df4c858a7d851e19f1015d",
            "8bd216f9ef4c476d8c20301fe5188442",
            "6ab830090f3f4da98f0aa67f7f14a276",
            "18e17d487f324479b8fdb7e3d95f9aaa",
            "504db7082c9f42018f48b22c4fd650e6",
            "33350cd1f47643f5b759016d5cf22679",
            "f4e6e92f766f49b09ae66f6b52b6292c",
            "84e2cfdfa79d44f6bdf7c1ee8547040e",
            "e66e5ce92ee74b3bb59b42d52a4119f8",
            "3bbf097846384593817f322d518ed9a5",
            "ed028154e1fe487abc910cfabc69ead2",
            "9857cb0f55f34878840e6a23d2594509",
            "1acb26f5ce1348cfa4b153902e97c008",
            "a858b45ec0454274b19baee0f4537878"
          ]
        },
        "outputId": "a700b05b-3621-49bd-faa0-352e81ead50e"
      },
      "source": [
        "#@title <b><font color=\"red\" size=\"+3\">←</font><font color=\"black\" size=\"+3\"> Запуск</font></b>\n",
        "\n",
        "\n",
        "import numpy as np\n",
        "\n",
        "import matplotlib.pyplot as plt\n",
        "from matplotlib import figure\n",
        "from ipywidgets import interact\n",
        "\n",
        "from __future__ import print_function\n",
        "\n",
        "from google.colab import widgets\n",
        "from google.colab import output\n",
        "from matplotlib import pylab\n",
        "from six.moves import zip\n",
        "\n",
        "from enum import Enum\n",
        "\n",
        "class Cores(Enum):\n",
        "    TRIANGULAR = 'Ядро треугольное'\n",
        "    STANDART_NORMAL_DENSITY = 'Ядро стандартной нормальной плотности'\n",
        "    EPANECHNIKOV = 'Ядро Епанечникова'\n",
        "\n",
        "\n",
        "class Core:\n",
        "\n",
        "    def __init__(self, name):\n",
        "        self.name = name\n",
        "    \n",
        "\n",
        "    @staticmethod\n",
        "    def standart_normal_density(self, x):\n",
        "        return 1. / np.sqrt(2. * np.pi) * np.exp(np.square(x) / -2.)\n",
        "\n",
        "    \n",
        "    @staticmethod\n",
        "    def triangular(self, x):\n",
        "        return (1. / np.sqrt(6) - np.abs(x) / 6.) * np.heaviside(np.sqrt(6) - np.abs(x), 1.)\n",
        "    \n",
        "\n",
        "    @staticmethod\n",
        "    def epanechnikov(self, x):\n",
        "        return (0.75 / np.sqrt(5) - 0.15 / np.sqrt(5) * np.square(x)) * np.heaviside(np.sqrt(5) - np.abs(x), 1.)\n",
        "\n",
        "    @staticmethod\n",
        "    def eval(self, x):\n",
        "        if self.name not in Cores:\n",
        "            raise ValueError(\"No such mode such as\" + self.name)\n",
        "        elif self.name == Cores.TRIANGULAR:\n",
        "            return self.triangular(self, x)\n",
        "        elif self.name == Cores.STANDART_NORMAL_DENSITY:\n",
        "            return self.standart_normal_density(self, x)\n",
        "        elif self.name == Cores.EPANECHNIKOV:\n",
        "            return self.epanechnikov(self, x)\n",
        "\n",
        "\n",
        "def g(x, input_core_name):\n",
        "    c = Core(input_core_name)\n",
        "    return c.eval(c, x)\n",
        "\n",
        "def nuclear_assessment_density_functions(lambda_n, x, X, name):\n",
        "    body = 0.\n",
        "    for i in range(X.size):\n",
        "        arg = (x - X[i]) / lambda_n\n",
        "        body += g(arg, name)\n",
        "\n",
        "    return 1. / (X.size * lambda_n) * body\n",
        "\n",
        "# This bad, but easy\n",
        "# Hard-coded array for slight effect\n",
        "X = np.array(\n",
        "    [3,3,3,3,3,3,3,3,3,3,3,3,3,3,3,3,3,3,3,3,3,3,3,3, \n",
        "     0,0,0,0,0,0,0,0,0,0,0,0,0,0,0,0,0,0,0,0,0,0,0,0, \n",
        "     4,4,4,4,4,4,4,4,4,4,4,4,4,4,4,4,4,4,4,4,4,4,4,4, \n",
        "     3,3,3,3,3,3,3,3,3,3,3,3,3,3,3,3,3,3,3,3,3,3,3,3,\n",
        "     6,6,6,6,6,6,6,6,6,6,6,6,6,6,6,6,6,6,6,6,6,6,6,6, \n",
        "     0,0,0,0,0,0,0,0,0,0,0,0,0,0,0,0,0,0,0,0,0,0,0,0, \n",
        "     3,3,3,3,3,3,3,3,3,3,3,3,3,3,3,3,3,3,3,3,3,3,3,3, \n",
        "     1,1,1,1,1,1,1,1,1,1,1,1,1,1,1,1,1,1,1,1,1,1,1,1,\n",
        "     2,2,2,2,2,2,2,2,2,2,2,2,2,2,2,2,2,2,2,2,2,2,2,2,\n",
        "     1,1,1,1,1,1,1,1,1,1,1,1,1,1,1,1,1,1,1,1,1,1,1,1])\n",
        "\n",
        "def create_tab(location):\n",
        "    tb = widgets.TabBar(\n",
        "        ['Ядро треугольное', \n",
        "         'Ядро стандартной нормальной плотности', \n",
        "         'Ядро Епанечникова'],\n",
        "         location=location)\n",
        "\n",
        "    area = np.linspace(np.amin(X), np.amax(X), X.size)\n",
        "    \n",
        "    with tb.output_to('Ядро треугольное'):\n",
        "        @interact\n",
        "        def dispay_func(λ_n=(0.2, 6.0)):\n",
        "            if (λ_n <= 0.00000001):\n",
        "                func = 0.\n",
        "            else:\n",
        "                func = nuclear_assessment_density_functions(λ_n, area, X, Cores.TRIANGULAR)\n",
        "            \n",
        "            plt.plot(area, func)\n",
        "            plt.ylabel('f(x)')\n",
        "            plt.xlabel('x')\n",
        "            plt.title('Ядерная оценка функции плотности')\n",
        "            plt.show()\n",
        "\n",
        "    with tb.output_to('Ядро стандартной нормальной плотности'):\n",
        "        @interact\n",
        "        def dispay_func(λ_n=(0.2, 6.0)):\n",
        "            if (λ_n <= 0.00000001):\n",
        "                func = 0.\n",
        "            else:\n",
        "                func = nuclear_assessment_density_functions(λ_n, area, X, Cores.STANDART_NORMAL_DENSITY)\n",
        "            \n",
        "            plt.plot(area, func)\n",
        "            plt.ylabel('f(x)')\n",
        "            plt.xlabel('x')\n",
        "            plt.title('Ядерная оценка функции плотности')\n",
        "            plt.show()\n",
        "    with tb.output_to('Ядро Епанечникова'):\n",
        "        @interact\n",
        "        def dispay_func(λ_n=(0.2, 6.0)):\n",
        "            if (λ_n <= 0.00000001):\n",
        "                func = 0.\n",
        "            else:\n",
        "                func = nuclear_assessment_density_functions(λ_n, area, X, Cores.EPANECHNIKOV)\n",
        "            \n",
        "            plt.plot(area, func)\n",
        "            plt.ylabel('f(x)')\n",
        "            plt.xlabel('x')\n",
        "            plt.title('Ядерная оценка функции плотности')\n",
        "            plt.show()\n",
        "\n",
        "positions = ['start']\n",
        "\n",
        "for p, _ in zip(positions, widgets.Grid(1, 1)):\n",
        "    create_tab(p)"
      ],
      "execution_count": null,
      "outputs": [
        {
          "output_type": "display_data",
          "data": {
            "text/html": [
              "<style>\n",
              "       table#id118, #id118 > tbody > tr > th, #id118 > tbody > tr > td {\n",
              "         border: 1px solid lightgray;\n",
              "         border-collapse:collapse;\n",
              "         \n",
              "        }</style>"
            ],
            "text/plain": [
              "<IPython.core.display.HTML object>"
            ]
          },
          "metadata": {}
        },
        {
          "output_type": "display_data",
          "data": {
            "text/html": [
              "<table id=id118><tr><td id=id118-0-0></td></tr></table>"
            ],
            "text/plain": [
              "<IPython.core.display.HTML object>"
            ]
          },
          "metadata": {}
        },
        {
          "output_type": "display_data",
          "data": {
            "application/javascript": [
              "window[\"d0af3308-1df7-11ec-b2de-0242ac1c0002\"] = google.colab.output.getActiveOutputArea();\n",
              "//# sourceURL=js_b686d34b1a"
            ],
            "text/plain": [
              "<IPython.core.display.Javascript object>"
            ]
          },
          "metadata": {}
        },
        {
          "output_type": "display_data",
          "data": {
            "application/javascript": [
              "window[\"d0af9d3e-1df7-11ec-b2de-0242ac1c0002\"] = document.querySelector(\"#id118-0-0\");\n",
              "//# sourceURL=js_09b0cd593b"
            ],
            "text/plain": [
              "<IPython.core.display.Javascript object>"
            ]
          },
          "metadata": {}
        },
        {
          "output_type": "display_data",
          "data": {
            "application/javascript": [
              "window[\"d0b01156-1df7-11ec-b2de-0242ac1c0002\"] = google.colab.output.setActiveOutputArea(window[\"d0af9d3e-1df7-11ec-b2de-0242ac1c0002\"]);\n",
              "//# sourceURL=js_4068c3e6f0"
            ],
            "text/plain": [
              "<IPython.core.display.Javascript object>"
            ]
          },
          "metadata": {}
        },
        {
          "output_type": "display_data",
          "data": {
            "text/html": [
              "<link rel=stylesheet type=text/css href='/nbextensions/google.colab/tabbar.css'></link>"
            ],
            "text/plain": [
              "<IPython.core.display.HTML object>"
            ]
          },
          "metadata": {}
        },
        {
          "output_type": "display_data",
          "data": {
            "text/html": [
              "<script src='/nbextensions/google.colab/tabbar_main.min.js'></script>"
            ],
            "text/plain": [
              "<IPython.core.display.HTML object>"
            ]
          },
          "metadata": {}
        },
        {
          "output_type": "display_data",
          "data": {
            "text/html": [
              "<div id=\"id119\"></div>"
            ],
            "text/plain": [
              "<IPython.core.display.HTML object>"
            ]
          },
          "metadata": {}
        },
        {
          "output_type": "display_data",
          "data": {
            "application/javascript": [
              "window[\"d0b29976-1df7-11ec-b2de-0242ac1c0002\"] = colab_lib.createTabBar({\"location\": \"start\", \"elementId\": \"id119\", \"tabNames\": [\"\\u042f\\u0434\\u0440\\u043e \\u0442\\u0440\\u0435\\u0443\\u0433\\u043e\\u043b\\u044c\\u043d\\u043e\\u0435\", \"\\u042f\\u0434\\u0440\\u043e \\u0441\\u0442\\u0430\\u043d\\u0434\\u0430\\u0440\\u0442\\u043d\\u043e\\u0439 \\u043d\\u043e\\u0440\\u043c\\u0430\\u043b\\u044c\\u043d\\u043e\\u0439 \\u043f\\u043b\\u043e\\u0442\\u043d\\u043e\\u0441\\u0442\\u0438\", \"\\u042f\\u0434\\u0440\\u043e \\u0415\\u043f\\u0430\\u043d\\u0435\\u0447\\u043d\\u0438\\u043a\\u043e\\u0432\\u0430\"], \"initialSelection\": 0, \"contentBorder\": [\"0px\"], \"contentHeight\": [\"initial\"], \"borderColor\": [\"#a7a7a7\"]});\n",
              "//# sourceURL=js_4135e3a12c"
            ],
            "text/plain": [
              "<IPython.core.display.Javascript object>"
            ]
          },
          "metadata": {}
        },
        {
          "output_type": "display_data",
          "data": {
            "application/javascript": [
              "window[\"d0b3143c-1df7-11ec-b2de-0242ac1c0002\"] = window[\"id119\"].setSelectedTabIndex(0);\n",
              "//# sourceURL=js_89f4f8af94"
            ],
            "text/plain": [
              "<IPython.core.display.Javascript object>"
            ]
          },
          "metadata": {}
        },
        {
          "output_type": "display_data",
          "data": {
            "application/javascript": [
              "window[\"d0b49442-1df7-11ec-b2de-0242ac1c0002\"] = google.colab.output.getActiveOutputArea();\n",
              "//# sourceURL=js_54c20083f9"
            ],
            "text/plain": [
              "<IPython.core.display.Javascript object>"
            ]
          },
          "metadata": {}
        },
        {
          "output_type": "display_data",
          "data": {
            "application/javascript": [
              "window[\"d0b4e26c-1df7-11ec-b2de-0242ac1c0002\"] = document.querySelector(\"#id119_content_0\");\n",
              "//# sourceURL=js_eb2d3ab34d"
            ],
            "text/plain": [
              "<IPython.core.display.Javascript object>"
            ]
          },
          "metadata": {}
        },
        {
          "output_type": "display_data",
          "data": {
            "application/javascript": [
              "window[\"d0b53000-1df7-11ec-b2de-0242ac1c0002\"] = google.colab.output.setActiveOutputArea(window[\"d0b4e26c-1df7-11ec-b2de-0242ac1c0002\"]);\n",
              "//# sourceURL=js_5851d740a7"
            ],
            "text/plain": [
              "<IPython.core.display.Javascript object>"
            ]
          },
          "metadata": {}
        },
        {
          "output_type": "display_data",
          "data": {
            "application/javascript": [
              "window[\"d0b57bd2-1df7-11ec-b2de-0242ac1c0002\"] = window[\"id119\"].setSelectedTabIndex(0);\n",
              "//# sourceURL=js_b5ca4ca839"
            ],
            "text/plain": [
              "<IPython.core.display.Javascript object>"
            ]
          },
          "metadata": {}
        },
        {
          "output_type": "display_data",
          "data": {
            "application/vnd.jupyter.widget-view+json": {
              "model_id": "54fb4f720dc14a60bacfcc7ed4d11905",
              "version_minor": 0,
              "version_major": 2
            },
            "text/plain": [
              "interactive(children=(FloatSlider(value=3.1, description='λ_n', max=6.0, min=0.2), Output()), _dom_classes=('w…"
            ]
          },
          "metadata": {}
        },
        {
          "output_type": "display_data",
          "data": {
            "application/javascript": [
              "window[\"d0da09de-1df7-11ec-b2de-0242ac1c0002\"] = google.colab.output.setActiveOutputArea(window[\"d0b49442-1df7-11ec-b2de-0242ac1c0002\"]);\n",
              "//# sourceURL=js_4976a1303e"
            ],
            "text/plain": [
              "<IPython.core.display.Javascript object>"
            ]
          },
          "metadata": {}
        },
        {
          "output_type": "display_data",
          "data": {
            "application/javascript": [
              "window[\"d0dc4230-1df7-11ec-b2de-0242ac1c0002\"] = google.colab.output.getActiveOutputArea();\n",
              "//# sourceURL=js_2d103d27ac"
            ],
            "text/plain": [
              "<IPython.core.display.Javascript object>"
            ]
          },
          "metadata": {}
        },
        {
          "output_type": "display_data",
          "data": {
            "application/javascript": [
              "window[\"d0dcc570-1df7-11ec-b2de-0242ac1c0002\"] = document.querySelector(\"#id119_content_1\");\n",
              "//# sourceURL=js_1b88c32911"
            ],
            "text/plain": [
              "<IPython.core.display.Javascript object>"
            ]
          },
          "metadata": {}
        },
        {
          "output_type": "display_data",
          "data": {
            "application/javascript": [
              "window[\"d0dd12c8-1df7-11ec-b2de-0242ac1c0002\"] = google.colab.output.setActiveOutputArea(window[\"d0dcc570-1df7-11ec-b2de-0242ac1c0002\"]);\n",
              "//# sourceURL=js_56ba399a86"
            ],
            "text/plain": [
              "<IPython.core.display.Javascript object>"
            ]
          },
          "metadata": {}
        },
        {
          "output_type": "display_data",
          "data": {
            "application/javascript": [
              "window[\"d0dd5e5e-1df7-11ec-b2de-0242ac1c0002\"] = window[\"id119\"].setSelectedTabIndex(1);\n",
              "//# sourceURL=js_8c549209ce"
            ],
            "text/plain": [
              "<IPython.core.display.Javascript object>"
            ]
          },
          "metadata": {}
        },
        {
          "output_type": "display_data",
          "data": {
            "application/vnd.jupyter.widget-view+json": {
              "model_id": "f829dd5948df4c858a7d851e19f1015d",
              "version_minor": 0,
              "version_major": 2
            },
            "text/plain": [
              "interactive(children=(FloatSlider(value=3.1, description='λ_n', max=6.0, min=0.2), Output()), _dom_classes=('w…"
            ]
          },
          "metadata": {}
        },
        {
          "output_type": "display_data",
          "data": {
            "application/javascript": [
              "window[\"d0ffd7fe-1df7-11ec-b2de-0242ac1c0002\"] = google.colab.output.setActiveOutputArea(window[\"d0dc4230-1df7-11ec-b2de-0242ac1c0002\"]);\n",
              "//# sourceURL=js_9590214651"
            ],
            "text/plain": [
              "<IPython.core.display.Javascript object>"
            ]
          },
          "metadata": {}
        },
        {
          "output_type": "display_data",
          "data": {
            "application/javascript": [
              "window[\"d1056430-1df7-11ec-b2de-0242ac1c0002\"] = google.colab.output.getActiveOutputArea();\n",
              "//# sourceURL=js_c6602422c2"
            ],
            "text/plain": [
              "<IPython.core.display.Javascript object>"
            ]
          },
          "metadata": {}
        },
        {
          "output_type": "display_data",
          "data": {
            "application/javascript": [
              "window[\"d105e612-1df7-11ec-b2de-0242ac1c0002\"] = document.querySelector(\"#id119_content_2\");\n",
              "//# sourceURL=js_72f97a36d5"
            ],
            "text/plain": [
              "<IPython.core.display.Javascript object>"
            ]
          },
          "metadata": {}
        },
        {
          "output_type": "display_data",
          "data": {
            "application/javascript": [
              "window[\"d10659ee-1df7-11ec-b2de-0242ac1c0002\"] = google.colab.output.setActiveOutputArea(window[\"d105e612-1df7-11ec-b2de-0242ac1c0002\"]);\n",
              "//# sourceURL=js_5da84dc2c2"
            ],
            "text/plain": [
              "<IPython.core.display.Javascript object>"
            ]
          },
          "metadata": {}
        },
        {
          "output_type": "display_data",
          "data": {
            "application/javascript": [
              "window[\"d106d3a6-1df7-11ec-b2de-0242ac1c0002\"] = window[\"id119\"].setSelectedTabIndex(2);\n",
              "//# sourceURL=js_7d0330a24b"
            ],
            "text/plain": [
              "<IPython.core.display.Javascript object>"
            ]
          },
          "metadata": {}
        },
        {
          "output_type": "display_data",
          "data": {
            "application/vnd.jupyter.widget-view+json": {
              "model_id": "84e2cfdfa79d44f6bdf7c1ee8547040e",
              "version_minor": 0,
              "version_major": 2
            },
            "text/plain": [
              "interactive(children=(FloatSlider(value=3.1, description='λ_n', max=6.0, min=0.2), Output()), _dom_classes=('w…"
            ]
          },
          "metadata": {}
        },
        {
          "output_type": "display_data",
          "data": {
            "application/javascript": [
              "window[\"d13c07b0-1df7-11ec-b2de-0242ac1c0002\"] = google.colab.output.setActiveOutputArea(window[\"d1056430-1df7-11ec-b2de-0242ac1c0002\"]);\n",
              "//# sourceURL=js_1dde6c0ee2"
            ],
            "text/plain": [
              "<IPython.core.display.Javascript object>"
            ]
          },
          "metadata": {}
        },
        {
          "output_type": "display_data",
          "data": {
            "application/javascript": [
              "window[\"d13e0984-1df7-11ec-b2de-0242ac1c0002\"] = google.colab.output.setActiveOutputArea(window[\"d0af3308-1df7-11ec-b2de-0242ac1c0002\"]);\n",
              "//# sourceURL=js_14db6614c9"
            ],
            "text/plain": [
              "<IPython.core.display.Javascript object>"
            ]
          },
          "metadata": {}
        }
      ]
    },
    {
      "cell_type": "code",
      "metadata": {
        "id": "KAlL87y7j--1"
      },
      "source": [
        ""
      ],
      "execution_count": null,
      "outputs": []
    }
  ]
}