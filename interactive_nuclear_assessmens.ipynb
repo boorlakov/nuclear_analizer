{
  "nbformat": 4,
  "nbformat_minor": 0,
  "metadata": {
    "colab": {
      "name": "interactive_nuclear_assessmens.ipynb",
      "provenance": [],
      "collapsed_sections": [],
      "authorship_tag": "ABX9TyN9VFbjnU7fis6kxp48GCpP",
      "include_colab_link": true
    },
    "kernelspec": {
      "name": "python3",
      "display_name": "Python 3"
    },
    "language_info": {
      "name": "python"
    },
    "widgets": {
      "application/vnd.jupyter.widget-state+json": {
        "8c7a18b7a46544d6bd0fdd8ca390467c": {
          "model_module": "@jupyter-widgets/controls",
          "model_name": "VBoxModel",
          "model_module_version": "1.5.0",
          "state": {
            "_view_name": "VBoxView",
            "_dom_classes": [
              "widget-interact"
            ],
            "_model_name": "VBoxModel",
            "_view_module": "@jupyter-widgets/controls",
            "_model_module_version": "1.5.0",
            "_view_count": null,
            "_view_module_version": "1.5.0",
            "box_style": "",
            "layout": "IPY_MODEL_2dd34d92e1454cefbc920d4aa70e8f92",
            "_model_module": "@jupyter-widgets/controls",
            "children": [
              "IPY_MODEL_87b27b4edde940fc80868e80b92b066e",
              "IPY_MODEL_9fb59a26f0654002ba4745c0f58a2764"
            ]
          }
        },
        "2dd34d92e1454cefbc920d4aa70e8f92": {
          "model_module": "@jupyter-widgets/base",
          "model_name": "LayoutModel",
          "model_module_version": "1.2.0",
          "state": {
            "_view_name": "LayoutView",
            "grid_template_rows": null,
            "right": null,
            "justify_content": null,
            "_view_module": "@jupyter-widgets/base",
            "overflow": null,
            "_model_module_version": "1.2.0",
            "_view_count": null,
            "flex_flow": null,
            "width": null,
            "min_width": null,
            "border": null,
            "align_items": null,
            "bottom": null,
            "_model_module": "@jupyter-widgets/base",
            "top": null,
            "grid_column": null,
            "overflow_y": null,
            "overflow_x": null,
            "grid_auto_flow": null,
            "grid_area": null,
            "grid_template_columns": null,
            "flex": null,
            "_model_name": "LayoutModel",
            "justify_items": null,
            "grid_row": null,
            "max_height": null,
            "align_content": null,
            "visibility": null,
            "align_self": null,
            "height": null,
            "min_height": null,
            "padding": null,
            "grid_auto_rows": null,
            "grid_gap": null,
            "max_width": null,
            "order": null,
            "_view_module_version": "1.2.0",
            "grid_template_areas": null,
            "object_position": null,
            "object_fit": null,
            "grid_auto_columns": null,
            "margin": null,
            "display": null,
            "left": null
          }
        },
        "87b27b4edde940fc80868e80b92b066e": {
          "model_module": "@jupyter-widgets/controls",
          "model_name": "FloatSliderModel",
          "model_module_version": "1.5.0",
          "state": {
            "_view_name": "FloatSliderView",
            "style": "IPY_MODEL_e535284070cb4d95998cf53c871ac7cc",
            "_dom_classes": [],
            "description": "λ_n",
            "step": 0.1,
            "_model_name": "FloatSliderModel",
            "orientation": "horizontal",
            "max": 6,
            "_view_module": "@jupyter-widgets/controls",
            "_model_module_version": "1.5.0",
            "value": 0.2,
            "_view_count": null,
            "disabled": false,
            "_view_module_version": "1.5.0",
            "min": 0.2,
            "continuous_update": true,
            "readout_format": ".2f",
            "description_tooltip": null,
            "readout": true,
            "_model_module": "@jupyter-widgets/controls",
            "layout": "IPY_MODEL_4486740e481142e0b87e2706b894f707"
          }
        },
        "9fb59a26f0654002ba4745c0f58a2764": {
          "model_module": "@jupyter-widgets/output",
          "model_name": "OutputModel",
          "model_module_version": "1.0.0",
          "state": {
            "_view_name": "OutputView",
            "msg_id": "",
            "_dom_classes": [],
            "_model_name": "OutputModel",
            "outputs": [
              {
                "output_type": "display_data",
                "data": {
                  "image/png": "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\n",
                  "text/plain": "<Figure size 432x288 with 1 Axes>"
                },
                "metadata": {
                  "needs_background": "light"
                }
              }
            ],
            "_view_module": "@jupyter-widgets/output",
            "_model_module_version": "1.0.0",
            "_view_count": null,
            "_view_module_version": "1.0.0",
            "layout": "IPY_MODEL_684d78975d734ec0bedbb78680a16042",
            "_model_module": "@jupyter-widgets/output"
          }
        },
        "e535284070cb4d95998cf53c871ac7cc": {
          "model_module": "@jupyter-widgets/controls",
          "model_name": "SliderStyleModel",
          "model_module_version": "1.5.0",
          "state": {
            "_view_name": "StyleView",
            "handle_color": null,
            "_model_name": "SliderStyleModel",
            "description_width": "",
            "_view_module": "@jupyter-widgets/base",
            "_model_module_version": "1.5.0",
            "_view_count": null,
            "_view_module_version": "1.2.0",
            "_model_module": "@jupyter-widgets/controls"
          }
        },
        "4486740e481142e0b87e2706b894f707": {
          "model_module": "@jupyter-widgets/base",
          "model_name": "LayoutModel",
          "model_module_version": "1.2.0",
          "state": {
            "_view_name": "LayoutView",
            "grid_template_rows": null,
            "right": null,
            "justify_content": null,
            "_view_module": "@jupyter-widgets/base",
            "overflow": null,
            "_model_module_version": "1.2.0",
            "_view_count": null,
            "flex_flow": null,
            "width": null,
            "min_width": null,
            "border": null,
            "align_items": null,
            "bottom": null,
            "_model_module": "@jupyter-widgets/base",
            "top": null,
            "grid_column": null,
            "overflow_y": null,
            "overflow_x": null,
            "grid_auto_flow": null,
            "grid_area": null,
            "grid_template_columns": null,
            "flex": null,
            "_model_name": "LayoutModel",
            "justify_items": null,
            "grid_row": null,
            "max_height": null,
            "align_content": null,
            "visibility": null,
            "align_self": null,
            "height": null,
            "min_height": null,
            "padding": null,
            "grid_auto_rows": null,
            "grid_gap": null,
            "max_width": null,
            "order": null,
            "_view_module_version": "1.2.0",
            "grid_template_areas": null,
            "object_position": null,
            "object_fit": null,
            "grid_auto_columns": null,
            "margin": null,
            "display": null,
            "left": null
          }
        },
        "684d78975d734ec0bedbb78680a16042": {
          "model_module": "@jupyter-widgets/base",
          "model_name": "LayoutModel",
          "model_module_version": "1.2.0",
          "state": {
            "_view_name": "LayoutView",
            "grid_template_rows": null,
            "right": null,
            "justify_content": null,
            "_view_module": "@jupyter-widgets/base",
            "overflow": null,
            "_model_module_version": "1.2.0",
            "_view_count": null,
            "flex_flow": null,
            "width": null,
            "min_width": null,
            "border": null,
            "align_items": null,
            "bottom": null,
            "_model_module": "@jupyter-widgets/base",
            "top": null,
            "grid_column": null,
            "overflow_y": null,
            "overflow_x": null,
            "grid_auto_flow": null,
            "grid_area": null,
            "grid_template_columns": null,
            "flex": null,
            "_model_name": "LayoutModel",
            "justify_items": null,
            "grid_row": null,
            "max_height": null,
            "align_content": null,
            "visibility": null,
            "align_self": null,
            "height": null,
            "min_height": null,
            "padding": null,
            "grid_auto_rows": null,
            "grid_gap": null,
            "max_width": null,
            "order": null,
            "_view_module_version": "1.2.0",
            "grid_template_areas": null,
            "object_position": null,
            "object_fit": null,
            "grid_auto_columns": null,
            "margin": null,
            "display": null,
            "left": null
          }
        },
        "f55f7a439eed46c185eb07871d6fc762": {
          "model_module": "@jupyter-widgets/controls",
          "model_name": "VBoxModel",
          "model_module_version": "1.5.0",
          "state": {
            "_view_name": "VBoxView",
            "_dom_classes": [
              "widget-interact"
            ],
            "_model_name": "VBoxModel",
            "_view_module": "@jupyter-widgets/controls",
            "_model_module_version": "1.5.0",
            "_view_count": null,
            "_view_module_version": "1.5.0",
            "box_style": "",
            "layout": "IPY_MODEL_d6bc3669246946928ece2e907aff44ff",
            "_model_module": "@jupyter-widgets/controls",
            "children": [
              "IPY_MODEL_bc0c5ad877424ba2874ca2008c38897c",
              "IPY_MODEL_a6fc9c8dc5e740ecb8a3f71814326f01"
            ]
          }
        },
        "d6bc3669246946928ece2e907aff44ff": {
          "model_module": "@jupyter-widgets/base",
          "model_name": "LayoutModel",
          "model_module_version": "1.2.0",
          "state": {
            "_view_name": "LayoutView",
            "grid_template_rows": null,
            "right": null,
            "justify_content": null,
            "_view_module": "@jupyter-widgets/base",
            "overflow": null,
            "_model_module_version": "1.2.0",
            "_view_count": null,
            "flex_flow": null,
            "width": null,
            "min_width": null,
            "border": null,
            "align_items": null,
            "bottom": null,
            "_model_module": "@jupyter-widgets/base",
            "top": null,
            "grid_column": null,
            "overflow_y": null,
            "overflow_x": null,
            "grid_auto_flow": null,
            "grid_area": null,
            "grid_template_columns": null,
            "flex": null,
            "_model_name": "LayoutModel",
            "justify_items": null,
            "grid_row": null,
            "max_height": null,
            "align_content": null,
            "visibility": null,
            "align_self": null,
            "height": null,
            "min_height": null,
            "padding": null,
            "grid_auto_rows": null,
            "grid_gap": null,
            "max_width": null,
            "order": null,
            "_view_module_version": "1.2.0",
            "grid_template_areas": null,
            "object_position": null,
            "object_fit": null,
            "grid_auto_columns": null,
            "margin": null,
            "display": null,
            "left": null
          }
        },
        "bc0c5ad877424ba2874ca2008c38897c": {
          "model_module": "@jupyter-widgets/controls",
          "model_name": "FloatSliderModel",
          "model_module_version": "1.5.0",
          "state": {
            "_view_name": "FloatSliderView",
            "style": "IPY_MODEL_b04e7dffa7774d2791a8029c7f796963",
            "_dom_classes": [],
            "description": "λ_n",
            "step": 0.1,
            "_model_name": "FloatSliderModel",
            "orientation": "horizontal",
            "max": 6,
            "_view_module": "@jupyter-widgets/controls",
            "_model_module_version": "1.5.0",
            "value": 5.8,
            "_view_count": null,
            "disabled": false,
            "_view_module_version": "1.5.0",
            "min": 0.2,
            "continuous_update": true,
            "readout_format": ".2f",
            "description_tooltip": null,
            "readout": true,
            "_model_module": "@jupyter-widgets/controls",
            "layout": "IPY_MODEL_9b105d9a2b544c7aa644fe81fed4bef2"
          }
        },
        "a6fc9c8dc5e740ecb8a3f71814326f01": {
          "model_module": "@jupyter-widgets/output",
          "model_name": "OutputModel",
          "model_module_version": "1.0.0",
          "state": {
            "_view_name": "OutputView",
            "msg_id": "",
            "_dom_classes": [],
            "_model_name": "OutputModel",
            "outputs": [
              {
                "output_type": "display_data",
                "data": {
                  "image/png": "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\n",
                  "text/plain": "<Figure size 432x288 with 1 Axes>"
                },
                "metadata": {
                  "needs_background": "light"
                }
              }
            ],
            "_view_module": "@jupyter-widgets/output",
            "_model_module_version": "1.0.0",
            "_view_count": null,
            "_view_module_version": "1.0.0",
            "layout": "IPY_MODEL_1ef7620c47af497382688a5b68262f70",
            "_model_module": "@jupyter-widgets/output"
          }
        },
        "b04e7dffa7774d2791a8029c7f796963": {
          "model_module": "@jupyter-widgets/controls",
          "model_name": "SliderStyleModel",
          "model_module_version": "1.5.0",
          "state": {
            "_view_name": "StyleView",
            "handle_color": null,
            "_model_name": "SliderStyleModel",
            "description_width": "",
            "_view_module": "@jupyter-widgets/base",
            "_model_module_version": "1.5.0",
            "_view_count": null,
            "_view_module_version": "1.2.0",
            "_model_module": "@jupyter-widgets/controls"
          }
        },
        "9b105d9a2b544c7aa644fe81fed4bef2": {
          "model_module": "@jupyter-widgets/base",
          "model_name": "LayoutModel",
          "model_module_version": "1.2.0",
          "state": {
            "_view_name": "LayoutView",
            "grid_template_rows": null,
            "right": null,
            "justify_content": null,
            "_view_module": "@jupyter-widgets/base",
            "overflow": null,
            "_model_module_version": "1.2.0",
            "_view_count": null,
            "flex_flow": null,
            "width": null,
            "min_width": null,
            "border": null,
            "align_items": null,
            "bottom": null,
            "_model_module": "@jupyter-widgets/base",
            "top": null,
            "grid_column": null,
            "overflow_y": null,
            "overflow_x": null,
            "grid_auto_flow": null,
            "grid_area": null,
            "grid_template_columns": null,
            "flex": null,
            "_model_name": "LayoutModel",
            "justify_items": null,
            "grid_row": null,
            "max_height": null,
            "align_content": null,
            "visibility": null,
            "align_self": null,
            "height": null,
            "min_height": null,
            "padding": null,
            "grid_auto_rows": null,
            "grid_gap": null,
            "max_width": null,
            "order": null,
            "_view_module_version": "1.2.0",
            "grid_template_areas": null,
            "object_position": null,
            "object_fit": null,
            "grid_auto_columns": null,
            "margin": null,
            "display": null,
            "left": null
          }
        },
        "1ef7620c47af497382688a5b68262f70": {
          "model_module": "@jupyter-widgets/base",
          "model_name": "LayoutModel",
          "model_module_version": "1.2.0",
          "state": {
            "_view_name": "LayoutView",
            "grid_template_rows": null,
            "right": null,
            "justify_content": null,
            "_view_module": "@jupyter-widgets/base",
            "overflow": null,
            "_model_module_version": "1.2.0",
            "_view_count": null,
            "flex_flow": null,
            "width": null,
            "min_width": null,
            "border": null,
            "align_items": null,
            "bottom": null,
            "_model_module": "@jupyter-widgets/base",
            "top": null,
            "grid_column": null,
            "overflow_y": null,
            "overflow_x": null,
            "grid_auto_flow": null,
            "grid_area": null,
            "grid_template_columns": null,
            "flex": null,
            "_model_name": "LayoutModel",
            "justify_items": null,
            "grid_row": null,
            "max_height": null,
            "align_content": null,
            "visibility": null,
            "align_self": null,
            "height": null,
            "min_height": null,
            "padding": null,
            "grid_auto_rows": null,
            "grid_gap": null,
            "max_width": null,
            "order": null,
            "_view_module_version": "1.2.0",
            "grid_template_areas": null,
            "object_position": null,
            "object_fit": null,
            "grid_auto_columns": null,
            "margin": null,
            "display": null,
            "left": null
          }
        },
        "5b5486e4a2ef44aaa5da320b23ac0c25": {
          "model_module": "@jupyter-widgets/controls",
          "model_name": "VBoxModel",
          "model_module_version": "1.5.0",
          "state": {
            "_view_name": "VBoxView",
            "_dom_classes": [
              "widget-interact"
            ],
            "_model_name": "VBoxModel",
            "_view_module": "@jupyter-widgets/controls",
            "_model_module_version": "1.5.0",
            "_view_count": null,
            "_view_module_version": "1.5.0",
            "box_style": "",
            "layout": "IPY_MODEL_e512b5fd1e5f454d83bf630eec332c8f",
            "_model_module": "@jupyter-widgets/controls",
            "children": [
              "IPY_MODEL_6728be9e4d3f495c84f7f6db83d4f9b0",
              "IPY_MODEL_1a59fed197d344dea2f4abcf647f3d31"
            ]
          }
        },
        "e512b5fd1e5f454d83bf630eec332c8f": {
          "model_module": "@jupyter-widgets/base",
          "model_name": "LayoutModel",
          "model_module_version": "1.2.0",
          "state": {
            "_view_name": "LayoutView",
            "grid_template_rows": null,
            "right": null,
            "justify_content": null,
            "_view_module": "@jupyter-widgets/base",
            "overflow": null,
            "_model_module_version": "1.2.0",
            "_view_count": null,
            "flex_flow": null,
            "width": null,
            "min_width": null,
            "border": null,
            "align_items": null,
            "bottom": null,
            "_model_module": "@jupyter-widgets/base",
            "top": null,
            "grid_column": null,
            "overflow_y": null,
            "overflow_x": null,
            "grid_auto_flow": null,
            "grid_area": null,
            "grid_template_columns": null,
            "flex": null,
            "_model_name": "LayoutModel",
            "justify_items": null,
            "grid_row": null,
            "max_height": null,
            "align_content": null,
            "visibility": null,
            "align_self": null,
            "height": null,
            "min_height": null,
            "padding": null,
            "grid_auto_rows": null,
            "grid_gap": null,
            "max_width": null,
            "order": null,
            "_view_module_version": "1.2.0",
            "grid_template_areas": null,
            "object_position": null,
            "object_fit": null,
            "grid_auto_columns": null,
            "margin": null,
            "display": null,
            "left": null
          }
        },
        "6728be9e4d3f495c84f7f6db83d4f9b0": {
          "model_module": "@jupyter-widgets/controls",
          "model_name": "FloatSliderModel",
          "model_module_version": "1.5.0",
          "state": {
            "_view_name": "FloatSliderView",
            "style": "IPY_MODEL_08ae52d3d63943fca5524281d87d9c29",
            "_dom_classes": [],
            "description": "λ_n",
            "step": 0.1,
            "_model_name": "FloatSliderModel",
            "orientation": "horizontal",
            "max": 6,
            "_view_module": "@jupyter-widgets/controls",
            "_model_module_version": "1.5.0",
            "value": 5.9,
            "_view_count": null,
            "disabled": false,
            "_view_module_version": "1.5.0",
            "min": 0.2,
            "continuous_update": true,
            "readout_format": ".2f",
            "description_tooltip": null,
            "readout": true,
            "_model_module": "@jupyter-widgets/controls",
            "layout": "IPY_MODEL_12b51c05d2aa4f89903498ad3e481775"
          }
        },
        "1a59fed197d344dea2f4abcf647f3d31": {
          "model_module": "@jupyter-widgets/output",
          "model_name": "OutputModel",
          "model_module_version": "1.0.0",
          "state": {
            "_view_name": "OutputView",
            "msg_id": "",
            "_dom_classes": [],
            "_model_name": "OutputModel",
            "outputs": [
              {
                "output_type": "display_data",
                "data": {
                  "image/png": "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\n",
                  "text/plain": "<Figure size 432x288 with 1 Axes>"
                },
                "metadata": {
                  "needs_background": "light"
                }
              }
            ],
            "_view_module": "@jupyter-widgets/output",
            "_model_module_version": "1.0.0",
            "_view_count": null,
            "_view_module_version": "1.0.0",
            "layout": "IPY_MODEL_74c5d4dece9d4b458df3823338d8a69b",
            "_model_module": "@jupyter-widgets/output"
          }
        },
        "08ae52d3d63943fca5524281d87d9c29": {
          "model_module": "@jupyter-widgets/controls",
          "model_name": "SliderStyleModel",
          "model_module_version": "1.5.0",
          "state": {
            "_view_name": "StyleView",
            "handle_color": null,
            "_model_name": "SliderStyleModel",
            "description_width": "",
            "_view_module": "@jupyter-widgets/base",
            "_model_module_version": "1.5.0",
            "_view_count": null,
            "_view_module_version": "1.2.0",
            "_model_module": "@jupyter-widgets/controls"
          }
        },
        "12b51c05d2aa4f89903498ad3e481775": {
          "model_module": "@jupyter-widgets/base",
          "model_name": "LayoutModel",
          "model_module_version": "1.2.0",
          "state": {
            "_view_name": "LayoutView",
            "grid_template_rows": null,
            "right": null,
            "justify_content": null,
            "_view_module": "@jupyter-widgets/base",
            "overflow": null,
            "_model_module_version": "1.2.0",
            "_view_count": null,
            "flex_flow": null,
            "width": null,
            "min_width": null,
            "border": null,
            "align_items": null,
            "bottom": null,
            "_model_module": "@jupyter-widgets/base",
            "top": null,
            "grid_column": null,
            "overflow_y": null,
            "overflow_x": null,
            "grid_auto_flow": null,
            "grid_area": null,
            "grid_template_columns": null,
            "flex": null,
            "_model_name": "LayoutModel",
            "justify_items": null,
            "grid_row": null,
            "max_height": null,
            "align_content": null,
            "visibility": null,
            "align_self": null,
            "height": null,
            "min_height": null,
            "padding": null,
            "grid_auto_rows": null,
            "grid_gap": null,
            "max_width": null,
            "order": null,
            "_view_module_version": "1.2.0",
            "grid_template_areas": null,
            "object_position": null,
            "object_fit": null,
            "grid_auto_columns": null,
            "margin": null,
            "display": null,
            "left": null
          }
        },
        "74c5d4dece9d4b458df3823338d8a69b": {
          "model_module": "@jupyter-widgets/base",
          "model_name": "LayoutModel",
          "model_module_version": "1.2.0",
          "state": {
            "_view_name": "LayoutView",
            "grid_template_rows": null,
            "right": null,
            "justify_content": null,
            "_view_module": "@jupyter-widgets/base",
            "overflow": null,
            "_model_module_version": "1.2.0",
            "_view_count": null,
            "flex_flow": null,
            "width": null,
            "min_width": null,
            "border": null,
            "align_items": null,
            "bottom": null,
            "_model_module": "@jupyter-widgets/base",
            "top": null,
            "grid_column": null,
            "overflow_y": null,
            "overflow_x": null,
            "grid_auto_flow": null,
            "grid_area": null,
            "grid_template_columns": null,
            "flex": null,
            "_model_name": "LayoutModel",
            "justify_items": null,
            "grid_row": null,
            "max_height": null,
            "align_content": null,
            "visibility": null,
            "align_self": null,
            "height": null,
            "min_height": null,
            "padding": null,
            "grid_auto_rows": null,
            "grid_gap": null,
            "max_width": null,
            "order": null,
            "_view_module_version": "1.2.0",
            "grid_template_areas": null,
            "object_position": null,
            "object_fit": null,
            "grid_auto_columns": null,
            "margin": null,
            "display": null,
            "left": null
          }
        }
      }
    }
  },
  "cells": [
    {
      "cell_type": "markdown",
      "metadata": {
        "id": "view-in-github",
        "colab_type": "text"
      },
      "source": [
        "<a href=\"https://colab.research.google.com/github/boorlakov/nuclear_analizer/blob/main/interactive_nuclear_assessmens.ipynb\" target=\"_parent\"><img src=\"https://colab.research.google.com/assets/colab-badge.svg\" alt=\"Open In Colab\"/></a>"
      ]
    },
    {
      "cell_type": "markdown",
      "metadata": {
        "id": "PMwscx28uGPv"
      },
      "source": [
        "# Задание 4.6* по матстату\n",
        "\n",
        "Построить на компьютере график ядерной оценки\n",
        "функции плотности по выборке\n",
        "**`(3; 0; 4; 3; 6; 0; 3; 1; 2; 1)`**, используя различные ядра и\n",
        "параметры размытости.\n",
        "\n",
        "## Ядерная оценка функции плотности имеет вид:\n",
        "\n",
        "$\\hat f(x) = \\frac{1}{n \\lambda_n} \\sum_{i=1}^{n} g(\\frac{x-X_i}{\\lambda_n})$\n",
        "\n",
        "## Список ядер:\n",
        "\n",
        "\n",
        "1. Ядро треугольное:\n",
        "\n",
        "    $g(x) = (\\frac{1}{\\sqrt6} - \\frac{\\left| x \\right|}{6}) h(\\sqrt6 - \\left| x \\right|)$\n",
        "\n",
        "2. Плотность стандартного нормального распределения:\n",
        "\n",
        "    $g(x) = \\frac{1}{\\sqrt2 \\sqrt\\pi} e^{- \\frac{x^2}{2}}$\n",
        "\n",
        "3. Ядро Епанечникова:\n",
        "\n",
        "    $g(x) = (\\frac{3}{4\\sqrt5} - \\frac{3}{20 \\sqrt5} x^2) h(\\sqrt5 - \\left| x \\right|)$\n"
      ]
    },
    {
      "cell_type": "code",
      "metadata": {
        "id": "ZQTeodr7nRe9",
        "colab": {
          "resources": {
            "http://localhost:8080/nbextensions/google.colab/tabbar.css": {
              "data": "Lmdvb2ctdGFie3Bvc2l0aW9uOnJlbGF0aXZlO3BhZGRpbmc6NHB4IDhweDtjb2xvcjojMDBjO3RleHQtZGVjb3JhdGlvbjp1bmRlcmxpbmU7Y3Vyc29yOmRlZmF1bHR9Lmdvb2ctdGFiLWJhci10b3AgLmdvb2ctdGFie21hcmdpbjoxcHggNHB4IDAgMDtib3JkZXItYm90dG9tOjA7ZmxvYXQ6bGVmdH0uZ29vZy10YWItYmFyLXRvcDphZnRlciwuZ29vZy10YWItYmFyLWJvdHRvbTphZnRlcntjb250ZW50OiIgIjtkaXNwbGF5OmJsb2NrO2hlaWdodDowO2NsZWFyOmJvdGg7dmlzaWJpbGl0eTpoaWRkZW59Lmdvb2ctdGFiLWJhci1ib3R0b20gLmdvb2ctdGFie21hcmdpbjowIDRweCAxcHggMDtib3JkZXItdG9wOjA7ZmxvYXQ6bGVmdH0uZ29vZy10YWItYmFyLXN0YXJ0IC5nb29nLXRhYnttYXJnaW46MCAwIDRweCAxcHg7Ym9yZGVyLXJpZ2h0OjB9Lmdvb2ctdGFiLWJhci1lbmQgLmdvb2ctdGFie21hcmdpbjowIDFweCA0cHggMDtib3JkZXItbGVmdDowfS5nb29nLXRhYi1ob3ZlcntiYWNrZ3JvdW5kOiNlZWV9Lmdvb2ctdGFiLWRpc2FibGVke2NvbG9yOiM2NjZ9Lmdvb2ctdGFiLXNlbGVjdGVke2NvbG9yOiMwMDA7YmFja2dyb3VuZDojZmZmO3RleHQtZGVjb3JhdGlvbjpub25lO2ZvbnQtd2VpZ2h0OmJvbGQ7Ym9yZGVyOjFweCBzb2xpZCAjNmI5MGRhfS5nb29nLXRhYi1iYXItdG9we3BhZGRpbmctdG9wOjVweCFpbXBvcnRhbnQ7cGFkZGluZy1sZWZ0OjVweCFpbXBvcnRhbnQ7Ym9yZGVyLWJvdHRvbToxcHggc29saWQgIzZiOTBkYSFpbXBvcnRhbnR9Lmdvb2ctdGFiLWJhci10b3AgLmdvb2ctdGFiLXNlbGVjdGVke3RvcDoxcHg7bWFyZ2luLXRvcDowO3BhZGRpbmctYm90dG9tOjVweH0uZ29vZy10YWItYmFyLWJvdHRvbSAuZ29vZy10YWItc2VsZWN0ZWR7dG9wOi0xcHg7bWFyZ2luLWJvdHRvbTowO3BhZGRpbmctdG9wOjVweH0uZ29vZy10YWItYmFyLXN0YXJ0IC5nb29nLXRhYi1zZWxlY3RlZHtsZWZ0OjFweDttYXJnaW4tbGVmdDowO3BhZGRpbmctcmlnaHQ6OXB4fS5nb29nLXRhYi1iYXItZW5kIC5nb29nLXRhYi1zZWxlY3RlZHtsZWZ0Oi0xcHg7bWFyZ2luLXJpZ2h0OjA7cGFkZGluZy1sZWZ0OjlweH0uZ29vZy10YWItYmFye21hcmdpbjowO2JvcmRlcjowO3BhZGRpbmc6MDtsaXN0LXN0eWxlOm5vbmU7Y3Vyc29yOmRlZmF1bHQ7b3V0bGluZTpub25lO2JhY2tncm91bmQ6I2ViZWZmOX0uZ29vZy10YWItYmFyLWNsZWFye2NsZWFyOmJvdGg7aGVpZ2h0OjA7b3ZlcmZsb3c6aGlkZGVufS5nb29nLXRhYi1iYXItc3RhcnR7ZmxvYXQ6bGVmdH0uZ29vZy10YWItYmFyLWVuZHtmbG9hdDpyaWdodH0qIGh0bWwgLmdvb2ctdGFiLWJhci1zdGFydHttYXJnaW4tcmlnaHQ6LTNweH0qIGh0bWwgLmdvb2ctdGFiLWJhci1lbmR7bWFyZ2luLWxlZnQ6LTNweH0=",
              "ok": true,
              "headers": [
                [
                  "content-type",
                  "text/css"
                ]
              ],
              "status": 200,
              "status_text": ""
            },
            "http://localhost:8080/nbextensions/google.colab/tabbar_main.min.js": {
              "data": "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",
              "ok": true,
              "headers": [
                [
                  "content-type",
                  "application/javascript"
                ]
              ],
              "status": 200,
              "status_text": ""
            }
          },
          "base_uri": "https://localhost:8080/",
          "height": 339,
          "referenced_widgets": [
            "8c7a18b7a46544d6bd0fdd8ca390467c",
            "2dd34d92e1454cefbc920d4aa70e8f92",
            "87b27b4edde940fc80868e80b92b066e",
            "9fb59a26f0654002ba4745c0f58a2764",
            "e535284070cb4d95998cf53c871ac7cc",
            "4486740e481142e0b87e2706b894f707",
            "684d78975d734ec0bedbb78680a16042",
            "f55f7a439eed46c185eb07871d6fc762",
            "d6bc3669246946928ece2e907aff44ff",
            "bc0c5ad877424ba2874ca2008c38897c",
            "a6fc9c8dc5e740ecb8a3f71814326f01",
            "b04e7dffa7774d2791a8029c7f796963",
            "9b105d9a2b544c7aa644fe81fed4bef2",
            "1ef7620c47af497382688a5b68262f70",
            "5b5486e4a2ef44aaa5da320b23ac0c25",
            "e512b5fd1e5f454d83bf630eec332c8f",
            "6728be9e4d3f495c84f7f6db83d4f9b0",
            "1a59fed197d344dea2f4abcf647f3d31",
            "08ae52d3d63943fca5524281d87d9c29",
            "12b51c05d2aa4f89903498ad3e481775",
            "74c5d4dece9d4b458df3823338d8a69b"
          ]
        },
        "cellView": "form",
        "outputId": "98cab7e6-7908-4873-dcd6-237a5df17d2e"
      },
      "source": [
        "#@title <b><font color=\"red\" size=\"+3\">←</font><font color=\"black\" size=\"+3\"> Запуск</font></b>\n",
        "\n",
        "\n",
        "import numpy as np\n",
        "\n",
        "import matplotlib.pyplot as plt\n",
        "from matplotlib import figure\n",
        "from ipywidgets import interact\n",
        "\n",
        "from __future__ import print_function\n",
        "\n",
        "from google.colab import widgets\n",
        "from google.colab import output\n",
        "from matplotlib import pylab\n",
        "from six.moves import zip\n",
        "\n",
        "from enum import Enum\n",
        "\n",
        "class Cores(Enum):\n",
        "    TRIANGULAR = 'Ядро треугольное'\n",
        "    STANDART_NORMAL_DENSITY = 'Ядро стандартной нормальной плотности'\n",
        "    EPANECHNIKOV = 'Ядро Епанечникова'\n",
        "\n",
        "\n",
        "class Core:\n",
        "\n",
        "    def __init__(self, name):\n",
        "        self.name = name\n",
        "    \n",
        "\n",
        "    @staticmethod\n",
        "    def standart_normal_density(self, x):\n",
        "        return 1. / np.sqrt(2. * np.pi) * np.exp(np.square(x) / -2.)\n",
        "\n",
        "    \n",
        "    @staticmethod\n",
        "    def triangular(self, x):\n",
        "        return (1. / np.sqrt(6) - np.abs(x) / 6.) * np.heaviside(np.sqrt(6) - np.abs(x), 1.)\n",
        "    \n",
        "\n",
        "    @staticmethod\n",
        "    def epanechnikov(self, x):\n",
        "        return (0.75 / np.sqrt(5) - 0.15 / np.sqrt(5) * np.square(x)) * np.heaviside(np.sqrt(5) - np.abs(x), 1.)\n",
        "\n",
        "    @staticmethod\n",
        "    def eval(self, x):\n",
        "        if self.name not in Cores:\n",
        "            raise ValueError(\"No such mode such as\" + self.name)\n",
        "        elif self.name == Cores.TRIANGULAR:\n",
        "            return self.triangular(self, x)\n",
        "        elif self.name == Cores.STANDART_NORMAL_DENSITY:\n",
        "            return self.standart_normal_density(self, x)\n",
        "        elif self.name == Cores.EPANECHNIKOV:\n",
        "            return self.epanechnikov(self, x)\n",
        "\n",
        "\n",
        "def g(x, input_core_name):\n",
        "    c = Core(input_core_name)\n",
        "    return c.eval(c, x)\n",
        "\n",
        "def nuclear_assessment_density_functions(lambda_n, x, X, name):\n",
        "    body = 0.\n",
        "    for i in range(X.size):\n",
        "        arg = (x - X[i]) / lambda_n\n",
        "        body += g(arg, name)\n",
        "\n",
        "    return 1. / (X.size * lambda_n) * body\n",
        "\n",
        "# This bad, but easy\n",
        "# Hard-coded array for slight effect\n",
        "X = np.array(\n",
        "    [3,3,3,3,3,3,3,3,3,3,3,3,3,3,3,3,3,3,3,3,3,3,3,3, \n",
        "     0,0,0,0,0,0,0,0,0,0,0,0,0,0,0,0,0,0,0,0,0,0,0,0, \n",
        "     4,4,4,4,4,4,4,4,4,4,4,4,4,4,4,4,4,4,4,4,4,4,4,4, \n",
        "     3,3,3,3,3,3,3,3,3,3,3,3,3,3,3,3,3,3,3,3,3,3,3,3,\n",
        "     6,6,6,6,6,6,6,6,6,6,6,6,6,6,6,6,6,6,6,6,6,6,6,6, \n",
        "     0,0,0,0,0,0,0,0,0,0,0,0,0,0,0,0,0,0,0,0,0,0,0,0, \n",
        "     3,3,3,3,3,3,3,3,3,3,3,3,3,3,3,3,3,3,3,3,3,3,3,3, \n",
        "     1,1,1,1,1,1,1,1,1,1,1,1,1,1,1,1,1,1,1,1,1,1,1,1,\n",
        "     2,2,2,2,2,2,2,2,2,2,2,2,2,2,2,2,2,2,2,2,2,2,2,2,\n",
        "     1,1,1,1,1,1,1,1,1,1,1,1,1,1,1,1,1,1,1,1,1,1,1,1])\n",
        "\n",
        "def create_tab(location):\n",
        "    tb = widgets.TabBar(\n",
        "        ['Ядро треугольное', \n",
        "         'Ядро стандартной нормальной плотности', \n",
        "         'Ядро Епанечникова'],\n",
        "         location=location)\n",
        "\n",
        "    area = np.linspace(np.amin(X), np.amax(X), X.size)\n",
        "    \n",
        "    with tb.output_to('Ядро треугольное'):\n",
        "        @interact\n",
        "        def dispay_func(λ_n=(0.2, 6.0)):\n",
        "            if (λ_n <= 0.00000001):\n",
        "                func = 0.\n",
        "            else:\n",
        "                func = nuclear_assessment_density_functions(λ_n, area, X, Cores.TRIANGULAR)\n",
        "            \n",
        "            plt.plot(area, func)\n",
        "            plt.ylabel('f(x)')\n",
        "            plt.xlabel('x')\n",
        "            plt.title('Ядерная оценка функции плотности')\n",
        "            plt.show()\n",
        "\n",
        "    with tb.output_to('Ядро стандартной нормальной плотности'):\n",
        "        @interact\n",
        "        def dispay_func(λ_n=(0.2, 6.0)):\n",
        "            if (λ_n <= 0.00000001):\n",
        "                func = 0.\n",
        "            else:\n",
        "                func = nuclear_assessment_density_functions(λ_n, area, X, Cores.STANDART_NORMAL_DENSITY)\n",
        "            \n",
        "            plt.plot(area, func)\n",
        "            plt.ylabel('f(x)')\n",
        "            plt.xlabel('x')\n",
        "            plt.title('Ядерная оценка функции плотности')\n",
        "            plt.show()\n",
        "    with tb.output_to('Ядро Епанечникова'):\n",
        "        @interact\n",
        "        def dispay_func(λ_n=(0.2, 6.0)):\n",
        "            if (λ_n <= 0.00000001):\n",
        "                func = 0.\n",
        "            else:\n",
        "                func = nuclear_assessment_density_functions(λ_n, area, X, Cores.EPANECHNIKOV)\n",
        "            \n",
        "            plt.plot(area, func)\n",
        "            plt.ylabel('f(x)')\n",
        "            plt.xlabel('x')\n",
        "            plt.title('Ядерная оценка функции плотности')\n",
        "            plt.show()\n",
        "\n",
        "positions = ['start']\n",
        "\n",
        "for p, _ in zip(positions, widgets.Grid(1, 1)):\n",
        "    create_tab(p)"
      ],
      "execution_count": 100,
      "outputs": [
        {
          "output_type": "display_data",
          "data": {
            "text/html": [
              "<style>\n",
              "       table#id124, #id124 > tbody > tr > th, #id124 > tbody > tr > td {\n",
              "         border: 1px solid lightgray;\n",
              "         border-collapse:collapse;\n",
              "         \n",
              "        }</style>"
            ],
            "text/plain": [
              "<IPython.core.display.HTML object>"
            ]
          },
          "metadata": {}
        },
        {
          "output_type": "display_data",
          "data": {
            "text/html": [
              "<table id=id124><tr><td id=id124-0-0></td></tr></table>"
            ],
            "text/plain": [
              "<IPython.core.display.HTML object>"
            ]
          },
          "metadata": {}
        },
        {
          "output_type": "display_data",
          "data": {
            "application/javascript": [
              "window[\"e099ffc0-1e04-11ec-b2de-0242ac1c0002\"] = google.colab.output.getActiveOutputArea();\n",
              "//# sourceURL=js_004aa7a288"
            ],
            "text/plain": [
              "<IPython.core.display.Javascript object>"
            ]
          },
          "metadata": {}
        },
        {
          "output_type": "display_data",
          "data": {
            "application/javascript": [
              "window[\"e09a8fee-1e04-11ec-b2de-0242ac1c0002\"] = document.querySelector(\"#id124-0-0\");\n",
              "//# sourceURL=js_ebee83c9db"
            ],
            "text/plain": [
              "<IPython.core.display.Javascript object>"
            ]
          },
          "metadata": {}
        },
        {
          "output_type": "display_data",
          "data": {
            "application/javascript": [
              "window[\"e09b2cec-1e04-11ec-b2de-0242ac1c0002\"] = google.colab.output.setActiveOutputArea(window[\"e09a8fee-1e04-11ec-b2de-0242ac1c0002\"]);\n",
              "//# sourceURL=js_aeeff7395a"
            ],
            "text/plain": [
              "<IPython.core.display.Javascript object>"
            ]
          },
          "metadata": {}
        },
        {
          "output_type": "display_data",
          "data": {
            "text/html": [
              "<link rel=stylesheet type=text/css href='/nbextensions/google.colab/tabbar.css'></link>"
            ],
            "text/plain": [
              "<IPython.core.display.HTML object>"
            ]
          },
          "metadata": {}
        },
        {
          "output_type": "display_data",
          "data": {
            "text/html": [
              "<script src='/nbextensions/google.colab/tabbar_main.min.js'></script>"
            ],
            "text/plain": [
              "<IPython.core.display.HTML object>"
            ]
          },
          "metadata": {}
        },
        {
          "output_type": "display_data",
          "data": {
            "text/html": [
              "<div id=\"id125\"></div>"
            ],
            "text/plain": [
              "<IPython.core.display.HTML object>"
            ]
          },
          "metadata": {}
        },
        {
          "output_type": "display_data",
          "data": {
            "application/javascript": [
              "window[\"e09edd7e-1e04-11ec-b2de-0242ac1c0002\"] = colab_lib.createTabBar({\"location\": \"start\", \"elementId\": \"id125\", \"tabNames\": [\"\\u042f\\u0434\\u0440\\u043e \\u0442\\u0440\\u0435\\u0443\\u0433\\u043e\\u043b\\u044c\\u043d\\u043e\\u0435\", \"\\u042f\\u0434\\u0440\\u043e \\u0441\\u0442\\u0430\\u043d\\u0434\\u0430\\u0440\\u0442\\u043d\\u043e\\u0439 \\u043d\\u043e\\u0440\\u043c\\u0430\\u043b\\u044c\\u043d\\u043e\\u0439 \\u043f\\u043b\\u043e\\u0442\\u043d\\u043e\\u0441\\u0442\\u0438\", \"\\u042f\\u0434\\u0440\\u043e \\u0415\\u043f\\u0430\\u043d\\u0435\\u0447\\u043d\\u0438\\u043a\\u043e\\u0432\\u0430\"], \"initialSelection\": 0, \"contentBorder\": [\"0px\"], \"contentHeight\": [\"initial\"], \"borderColor\": [\"#a7a7a7\"]});\n",
              "//# sourceURL=js_b9ace7e6bd"
            ],
            "text/plain": [
              "<IPython.core.display.Javascript object>"
            ]
          },
          "metadata": {}
        },
        {
          "output_type": "display_data",
          "data": {
            "application/javascript": [
              "window[\"e09f5448-1e04-11ec-b2de-0242ac1c0002\"] = window[\"id125\"].setSelectedTabIndex(0);\n",
              "//# sourceURL=js_3280719d30"
            ],
            "text/plain": [
              "<IPython.core.display.Javascript object>"
            ]
          },
          "metadata": {}
        },
        {
          "output_type": "display_data",
          "data": {
            "application/javascript": [
              "window[\"e0a118dc-1e04-11ec-b2de-0242ac1c0002\"] = google.colab.output.getActiveOutputArea();\n",
              "//# sourceURL=js_366b87eb0a"
            ],
            "text/plain": [
              "<IPython.core.display.Javascript object>"
            ]
          },
          "metadata": {}
        },
        {
          "output_type": "display_data",
          "data": {
            "application/javascript": [
              "window[\"e0a16724-1e04-11ec-b2de-0242ac1c0002\"] = document.querySelector(\"#id125_content_0\");\n",
              "//# sourceURL=js_c0798788f8"
            ],
            "text/plain": [
              "<IPython.core.display.Javascript object>"
            ]
          },
          "metadata": {}
        },
        {
          "output_type": "display_data",
          "data": {
            "application/javascript": [
              "window[\"e0a1b9ae-1e04-11ec-b2de-0242ac1c0002\"] = google.colab.output.setActiveOutputArea(window[\"e0a16724-1e04-11ec-b2de-0242ac1c0002\"]);\n",
              "//# sourceURL=js_131a2d73f6"
            ],
            "text/plain": [
              "<IPython.core.display.Javascript object>"
            ]
          },
          "metadata": {}
        },
        {
          "output_type": "display_data",
          "data": {
            "application/javascript": [
              "window[\"e0a20832-1e04-11ec-b2de-0242ac1c0002\"] = window[\"id125\"].setSelectedTabIndex(0);\n",
              "//# sourceURL=js_226f636ff0"
            ],
            "text/plain": [
              "<IPython.core.display.Javascript object>"
            ]
          },
          "metadata": {}
        },
        {
          "output_type": "display_data",
          "data": {
            "application/vnd.jupyter.widget-view+json": {
              "model_id": "8c7a18b7a46544d6bd0fdd8ca390467c",
              "version_minor": 0,
              "version_major": 2
            },
            "text/plain": [
              "interactive(children=(FloatSlider(value=3.1, description='λ_n', max=6.0, min=0.2), Output()), _dom_classes=('w…"
            ]
          },
          "metadata": {}
        },
        {
          "output_type": "display_data",
          "data": {
            "application/javascript": [
              "window[\"e0c59ec8-1e04-11ec-b2de-0242ac1c0002\"] = google.colab.output.setActiveOutputArea(window[\"e0a118dc-1e04-11ec-b2de-0242ac1c0002\"]);\n",
              "//# sourceURL=js_c5267d53eb"
            ],
            "text/plain": [
              "<IPython.core.display.Javascript object>"
            ]
          },
          "metadata": {}
        },
        {
          "output_type": "display_data",
          "data": {
            "application/javascript": [
              "window[\"e0c83ca0-1e04-11ec-b2de-0242ac1c0002\"] = google.colab.output.getActiveOutputArea();\n",
              "//# sourceURL=js_29e7811ebe"
            ],
            "text/plain": [
              "<IPython.core.display.Javascript object>"
            ]
          },
          "metadata": {}
        },
        {
          "output_type": "display_data",
          "data": {
            "application/javascript": [
              "window[\"e0c8b6da-1e04-11ec-b2de-0242ac1c0002\"] = document.querySelector(\"#id125_content_1\");\n",
              "//# sourceURL=js_a13ba6470a"
            ],
            "text/plain": [
              "<IPython.core.display.Javascript object>"
            ]
          },
          "metadata": {}
        },
        {
          "output_type": "display_data",
          "data": {
            "application/javascript": [
              "window[\"e0c9276e-1e04-11ec-b2de-0242ac1c0002\"] = google.colab.output.setActiveOutputArea(window[\"e0c8b6da-1e04-11ec-b2de-0242ac1c0002\"]);\n",
              "//# sourceURL=js_c1327d5332"
            ],
            "text/plain": [
              "<IPython.core.display.Javascript object>"
            ]
          },
          "metadata": {}
        },
        {
          "output_type": "display_data",
          "data": {
            "application/javascript": [
              "window[\"e0c996ae-1e04-11ec-b2de-0242ac1c0002\"] = window[\"id125\"].setSelectedTabIndex(1);\n",
              "//# sourceURL=js_8a3562a198"
            ],
            "text/plain": [
              "<IPython.core.display.Javascript object>"
            ]
          },
          "metadata": {}
        },
        {
          "output_type": "display_data",
          "data": {
            "application/vnd.jupyter.widget-view+json": {
              "model_id": "f55f7a439eed46c185eb07871d6fc762",
              "version_minor": 0,
              "version_major": 2
            },
            "text/plain": [
              "interactive(children=(FloatSlider(value=3.1, description='λ_n', max=6.0, min=0.2), Output()), _dom_classes=('w…"
            ]
          },
          "metadata": {}
        },
        {
          "output_type": "display_data",
          "data": {
            "application/javascript": [
              "window[\"e0ffd282-1e04-11ec-b2de-0242ac1c0002\"] = google.colab.output.setActiveOutputArea(window[\"e0c83ca0-1e04-11ec-b2de-0242ac1c0002\"]);\n",
              "//# sourceURL=js_c7c407f557"
            ],
            "text/plain": [
              "<IPython.core.display.Javascript object>"
            ]
          },
          "metadata": {}
        },
        {
          "output_type": "display_data",
          "data": {
            "application/javascript": [
              "window[\"e1028360-1e04-11ec-b2de-0242ac1c0002\"] = google.colab.output.getActiveOutputArea();\n",
              "//# sourceURL=js_a1efc2b201"
            ],
            "text/plain": [
              "<IPython.core.display.Javascript object>"
            ]
          },
          "metadata": {}
        },
        {
          "output_type": "display_data",
          "data": {
            "application/javascript": [
              "window[\"e102ff98-1e04-11ec-b2de-0242ac1c0002\"] = document.querySelector(\"#id125_content_2\");\n",
              "//# sourceURL=js_58aab18ee4"
            ],
            "text/plain": [
              "<IPython.core.display.Javascript object>"
            ]
          },
          "metadata": {}
        },
        {
          "output_type": "display_data",
          "data": {
            "application/javascript": [
              "window[\"e10376da-1e04-11ec-b2de-0242ac1c0002\"] = google.colab.output.setActiveOutputArea(window[\"e102ff98-1e04-11ec-b2de-0242ac1c0002\"]);\n",
              "//# sourceURL=js_61b574aff9"
            ],
            "text/plain": [
              "<IPython.core.display.Javascript object>"
            ]
          },
          "metadata": {}
        },
        {
          "output_type": "display_data",
          "data": {
            "application/javascript": [
              "window[\"e103f4f2-1e04-11ec-b2de-0242ac1c0002\"] = window[\"id125\"].setSelectedTabIndex(2);\n",
              "//# sourceURL=js_006e9e9a6b"
            ],
            "text/plain": [
              "<IPython.core.display.Javascript object>"
            ]
          },
          "metadata": {}
        },
        {
          "output_type": "display_data",
          "data": {
            "application/vnd.jupyter.widget-view+json": {
              "model_id": "5b5486e4a2ef44aaa5da320b23ac0c25",
              "version_minor": 0,
              "version_major": 2
            },
            "text/plain": [
              "interactive(children=(FloatSlider(value=3.1, description='λ_n', max=6.0, min=0.2), Output()), _dom_classes=('w…"
            ]
          },
          "metadata": {}
        },
        {
          "output_type": "display_data",
          "data": {
            "application/javascript": [
              "window[\"e127981c-1e04-11ec-b2de-0242ac1c0002\"] = google.colab.output.setActiveOutputArea(window[\"e1028360-1e04-11ec-b2de-0242ac1c0002\"]);\n",
              "//# sourceURL=js_f01aeb4f51"
            ],
            "text/plain": [
              "<IPython.core.display.Javascript object>"
            ]
          },
          "metadata": {}
        },
        {
          "output_type": "display_data",
          "data": {
            "application/javascript": [
              "window[\"e129b854-1e04-11ec-b2de-0242ac1c0002\"] = google.colab.output.setActiveOutputArea(window[\"e099ffc0-1e04-11ec-b2de-0242ac1c0002\"]);\n",
              "//# sourceURL=js_236e5fd306"
            ],
            "text/plain": [
              "<IPython.core.display.Javascript object>"
            ]
          },
          "metadata": {}
        }
      ]
    },
    {
      "cell_type": "code",
      "metadata": {
        "id": "KAlL87y7j--1"
      },
      "source": [
        ""
      ],
      "execution_count": null,
      "outputs": []
    }
  ]
}